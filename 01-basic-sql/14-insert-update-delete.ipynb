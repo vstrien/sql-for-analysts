{
    "metadata": {
        "kernelspec": {
            "name": "SQL",
            "display_name": "SQL",
            "language": "sql"
        },
        "language_info": {
            "name": "sql",
            "version": ""
        }
    },
    "nbformat_minor": 2,
    "nbformat": 4,
    "cells": [
        {
            "cell_type": "markdown",
            "source": "# Manipulating data\r\n\r\n`SELECT` is by far the first and most used SQL keyword by any SQL user, in particular analysts. However, it will not help you to store, change or delete data within your database. In order to do that, you'll need different commands.\r\n\r\nThe three essential commands are:\r\n\r\n* `INSERT` for inserting data into a table\r\n* `UPDATE` to change data inside a table\r\n* `DELETE` to delete data from a table\r\n\r\n## Preparation\r\n\r\nConnect to the `AdventureWorksLT` database, and execute the following script. This will create some tables we can safely use without messing with the original database.",
            "metadata": {}
        },
        {
            "cell_type": "code",
            "source": "IF OBJECT_ID('dbo.myCustomers', 'U') IS NOT NULL\r\n  DROP TABLE dbo.myCustomers;\r\n\r\nCREATE TABLE dbo.myCustomers (\r\n    CustomerID BIGINT IDENTITY(1,1) NOT NULL\r\n    , CustomerName NVARCHAR(20)\r\n    , CustomerAge INT\r\n    , CustomerBirthdate DATE\r\n);",
            "metadata": {},
            "outputs": [
                {
                    "output_type": "display_data",
                    "data": {
                        "text/html": "Commands completed successfully."
                    },
                    "metadata": {}
                },
                {
                    "output_type": "display_data",
                    "data": {
                        "text/html": "Total execution time: 00:00:00.0280371"
                    },
                    "metadata": {}
                }
            ],
            "execution_count": 2
        },
        {
            "cell_type": "markdown",
            "source": "Check if there are any rows inside the table `dbo.myCustomers`. Use the cell below to write a `SELECT` query to check this.\r\n",
            "metadata": {}
        },
        {
            "cell_type": "code",
            "source": "-- type your SELECT here to check if dbo.myCustomers has any rows currently.",
            "metadata": {},
            "outputs": [],
            "execution_count": 0
        },
        {
            "cell_type": "markdown",
            "source": "## Inserting data\r\n\r\nThe basic INSERT statement has three components: a table, a column list, and a values list.\r\n\r\nIt works as follows:\r\n\r\n```sql\r\nINSERT INTO [schema].[table] (columnname1, ..., columnname_n_)\r\nVALUES ('value_for_column1', ..., 'value_for_column_n_');\r\n```\r\n\r\nTest if can get this to work in the cell below. Insert two customers:\r\n\r\n* Name: John, Age: 54\r\n* Name: Sandra, Age: 36\r\n\r\n**You don't have to specify all columns - only include the columns that you have values for (`CustomerName` and `CustomerAge`) - in the column list as well as in the `VALUES` list.**",
            "metadata": {}
        },
        {
            "cell_type": "code",
            "source": "-- Write your INSERT statement for John (Age 54) here",
            "metadata": {},
            "outputs": [],
            "execution_count": 0
        },
        {
            "cell_type": "code",
            "source": "-- Write your INSERT statement for Sandra (Age 36) here",
            "metadata": {},
            "outputs": [],
            "execution_count": 0
        },
        {
            "cell_type": "markdown",
            "source": "Now, write a SELECT statement and check the contents of this table. \r\n\r\n* Are the results as expected?\r\n* Try to explain any unexpected results",
            "metadata": {}
        },
        {
            "cell_type": "markdown",
            "source": "## Updates\r\n\r\nAs you've seen, the birthdates of John and Sandra were not available during the initial insert. To update these columns, we can use the `UPDATE` statement. In its most simple form, it looks like this:\r\n\r\n```sql\r\nUPDATE [schema].[table]\r\nSET columnname1 = 'value_for_column1', ..., columnname_n_ = 'value_for_column_n_'\r\n```\r\n\r\nThere's one problem with the statement above: it updates the specified columns *for all rows in the table*. In other words, when we used this \"plain\" `UPDATE` statement to set a birthdate, *all customers would get the same birthdate*.\r\n\r\nLet's try this and set all customer's birth dates to 1-1-1965 (use '1965-01-01' as value):",
            "metadata": {}
        },
        {
            "cell_type": "code",
            "source": "-- Use this cell to write an UPDATE statement that sets the column CustomerBirthdate to '1965-01-01'",
            "metadata": {},
            "outputs": [],
            "execution_count": 0
        },
        {
            "cell_type": "code",
            "source": "-- Check the contents of the myCustomers table with a SELECT statement.",
            "metadata": {},
            "outputs": [],
            "execution_count": 0
        },
        {
            "cell_type": "markdown",
            "source": "In order to update only selected rows, we use the same mechanic as within the `SELECT` statement: `WHERE`. For example:\r\n\r\n```sql\r\nUPDATE [schema].[table] SET CustomerPolitics = 'Republican' WHERE CustomerName = 'John'\r\n```\r\n\r\nUse this construct to set the following values:\r\n\r\n* For John: Birthdate 28-02-1965\r\n* For Sandra: Birthdate 15-02-1983",
            "metadata": {}
        },
        {
            "cell_type": "code",
            "source": "-- Update John's birthdate to 28-02-1965",
            "metadata": {},
            "outputs": [],
            "execution_count": 0
        },
        {
            "cell_type": "code",
            "source": "-- Update Sandra's birthdate to 15-02-1983",
            "metadata": {},
            "outputs": [],
            "execution_count": 0
        },
        {
            "cell_type": "markdown",
            "source": "Now correct Sandra's name to *Alexandra* (you can use the same column in the `WHERE` construct as in the `UPDATE .. SET` columnlist)",
            "metadata": {}
        },
        {
            "cell_type": "code",
            "source": "-- Update Sandra's name to *Alexandra*",
            "metadata": {},
            "outputs": [],
            "execution_count": 0
        },
        {
            "cell_type": "markdown",
            "source": "> As you can see, the `UPDATE` statement can affect a lot of rows at once. Therefor, you might want to check (with a `SELECT`) which rows your `UPDATE` would hit.  \r\n> Although rewriting the basic `UPDATE` statement we just used into a `SELECT` statement is not that hard, it could easily introduce some non-intended errors.  \r\n> Luckily, we can also write the `UPDATE` statement in an almost `SELECT`-like way:\r\n>\r\n> ```sql\r\n> UPDATE [tablename] SET \r\n>    Column1 = 'value1'\r\n>    , ...\r\n>    , ColumnN = 'valueN'\r\n> FROM [schemaname].[tablename]\r\n> WHERE (etc.);\r\n> ```\r\n> \r\n> Now, we can replace the `UPDATE [tablename] SET` simply with `SELECT`, and a perfectly valid `SELECT` statement would remain, providing us with a view of the result of the `UPDATE` statement:\r\n>\r\n> ```sql\r\n> SELECT\r\n>    Column1 = 'value1'\r\n>    , ...\r\n>    , ColumnN = 'valueN'\r\n>    -- You can add \", *\" to include all original columns alongside with the updated ones\r\n> FROM [schemaname].[tablename]\r\n> WHERE (etc.);\r\n> ```\r\n> \r\n> We use a slightly different `SELECT` statement here, where each selected value (`'value1'` unto `'valueN'`) is given an *alias*. This is just the column header in your result set (usually you'd see your column names here).",
            "metadata": {}
        },
        {
            "cell_type": "markdown",
            "source": "## Delete\r\n\r\nIn order to remove rows from a table, we can use the `DELETE` statement. As no values or columns need to be provided (after all, we're only deleting *rows*, regardless of the columns or values within), the syntax is easier than `UPDATE` or `INSERT`:\r\n\r\n```sql\r\nDELETE\r\nFROM [schemaname].[tablename];\r\n```\r\n\r\nAs with the `UPDATE` statement, this statement would **delete all rows**. So, just like the `UPDATE` statement, we'll use the `DELETE` always in conjunction with `WHERE`:\r\n\r\n```sql\r\nDELETE\r\nFROM [schemaname].[tablename]\r\nWHERE (expression);\r\n```\r\n\r\nDelete the row with John from the table.",
            "metadata": {}
        },
        {
            "cell_type": "code",
            "source": "-- Delete customer John",
            "metadata": {},
            "outputs": [],
            "execution_count": 0
        },
        {
            "cell_type": "code",
            "source": "-- Check the results: is John really deleted?",
            "metadata": {},
            "outputs": [],
            "execution_count": 0
        },
        {
            "cell_type": "code",
            "source": "-- Try to delete John again (yes, he was already deleted for sure). Do you see any differences? (Notice that no error occurs!)",
            "metadata": {},
            "outputs": [],
            "execution_count": 0
        }
    ]
}