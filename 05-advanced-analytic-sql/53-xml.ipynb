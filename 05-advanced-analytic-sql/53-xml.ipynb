{
    "metadata": {
        "kernelspec": {
            "name": "SQL",
            "display_name": "SQL",
            "language": "sql"
        },
        "language_info": {
            "name": "sql",
            "version": ""
        }
    },
    "nbformat_minor": 2,
    "nbformat": 4,
    "cells": [
        {
            "cell_type": "markdown",
            "source": [
                "# XML data\r\n",
                "\r\n",
                "* XML introductie\r\n",
                "  * Structuur\r\n",
                "  * Schema's\r\n",
                "* XML data laden met schema\r\n",
                "* XML data laden zonder schema\r\n",
                "* XML queries\r\n",
                "* XML output queries\r\n",
                ""
            ],
            "metadata": {
                "azdata_cell_guid": "8c257308-6ed5-41a3-95c8-cdca160fdac3"
            }
        },
        {
            "cell_type": "markdown",
            "source": [
                "s"
            ],
            "metadata": {
                "azdata_cell_guid": "7cc5f066-59d7-4e56-941b-ee4ed4cd3caf"
            }
        }
    ]
}