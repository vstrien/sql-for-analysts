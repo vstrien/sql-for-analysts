{
    "metadata": {
        "kernelspec": {
            "name": "SQL",
            "display_name": "SQL",
            "language": "sql"
        },
        "language_info": {
            "name": "sql",
            "version": ""
        }
    },
    "nbformat_minor": 2,
    "nbformat": 4,
    "cells": [
        {
            "cell_type": "markdown",
            "source": [
                "# PIVOT and UNPIVOT\r\n",
                "\r\n",
                "* pivot + voorbeeld\r\n",
                "* unpivot + voorbeeld\r\n",
                "* Challenge: unpivot meerdere kolommen (APPLY voorbeeld aanhalen, links verwijzen)\r\n",
                ""
            ],
            "metadata": {
                "azdata_cell_guid": "24a2e3f2-319f-42d8-8a5c-b460948a0a23"
            }
        }
    ]
}