{
    "metadata": {
        "kernelspec": {
            "name": "SQL",
            "display_name": "SQL",
            "language": "sql"
        },
        "language_info": {
            "name": "sql",
            "version": ""
        }
    },
    "nbformat_minor": 2,
    "nbformat": 4,
    "cells": [
        {
            "cell_type": "markdown",
            "source": [
                "# Functions and APPLY\n",
                "\n",
                "\n",
                "* Functie schrijven\n",
                "* Functie toepassen\n",
                "* CROSS APPLY\n",
                "* OUTER APPLY\n",
                "\n",
                "\n",
                ""
            ],
            "metadata": {
                "azdata_cell_guid": "db87f804-b5e8-4119-8d8c-d71008b81336"
            }
        },
        {
            "cell_type": "markdown",
            "source": [
                "## Scalar functions\r\n",
                "\r\n",
                "The most basic function group within T-SQL are *scalar functions*. They can accept multiple parameters, but return only a single value.\r\n",
                "\r\n",
                "As a result, you can use them inside any SELECT statement.\r\n",
                "You might have used one of these functions already:\r\n",
                "\r\n",
                "* `GETDATE()`\r\n",
                "* `NEWID()`\r\n",
                "* `YEAR()`\r\n",
                ""
            ],
            "metadata": {
                "azdata_cell_guid": "64cef57a-3e94-4d00-892a-34b4e462f624"
            }
        },
        {
            "cell_type": "code",
            "source": [
                ""
            ],
            "metadata": {
                "azdata_cell_guid": "e079cb55-598f-4143-8367-a1f9bc833692"
            },
            "outputs": [],
            "execution_count": 0
        },
        {
            "cell_type": "markdown",
            "source": [
                "## Table-valued functions\r\n",
                "\r\n",
                "A second type of function is a *table-valued function*. Table-valued functions return, well, a *table*.\r\n",
                "\r\n",
                "One way table-valued functions (TVFs) are used often in Data Warehousing is as *parameterized views*.\r\n",
                "\r\n",
                "Below is an example for a historical table, and an accompanying TVF dat helps you to view the table *as it was on a certain point in time*."
            ],
            "metadata": {
                "azdata_cell_guid": "e7b1b201-8504-4dec-b4d9-503340ae4271"
            }
        },
        {
            "cell_type": "code",
            "source": [
                "IF OBJECT_ID('dbo.addresses') IS NOT NULL\r\n",
                "    DROP TABLE dbo.addresses;\r\n",
                "\r\n",
                "IF OBJECT_ID('dbo.address_at') IS NOT NULL\r\n",
                "    DROP FUNCTION dbo.address_at;\r\n",
                "\r\n",
                "SELECT\r\n",
                "    *\r\n",
                "INTO dbo.addresses\r\n",
                "FROM (VALUES \r\n",
                "    ('Koos', 'Wilnis', '1986-12-24', '2005-08-31')\r\n",
                "    , ('Koos', 'Amsterdam West', '2005-08-31', '2006-05-15')\r\n",
                "    , ('Koos', 'Wilnis', '2006-05-15', '2006-10-30')\r\n",
                "    , ('Koos', 'Amsterdam Oud-Zuid', '2006-10-30', '2010-05-25')\r\n",
                "    , ('Koos', 'Amsterdam Centrum', '2010-05-25', '2011-04-20')\r\n",
                ") AS customer ([Name], City, StartDate, EndDate);\r\n",
                "\r\n",
                "GO\r\n",
                "\r\n",
                "CREATE FUNCTION address_at(@date DATETIME2) \r\n",
                "RETURNS TABLE\r\n",
                "AS \r\n",
                "RETURN\r\n",
                "SELECT * \r\n",
                "FROM dbo.addresses\r\n",
                "WHERE StartDate <= @date AND EndDate > @date\r\n",
                "\r\n",
                "GO\r\n",
                "\r\n",
                "SELECT * FROM address_at ('2007-01-01')"
            ],
            "metadata": {
                "azdata_cell_guid": "1ae4a295-ca8f-4088-9fca-92d9dafec028"
            },
            "outputs": [
                {
                    "output_type": "display_data",
                    "data": {
                        "text/html": "(5 rows affected)"
                    },
                    "metadata": {}
                },
                {
                    "output_type": "display_data",
                    "data": {
                        "text/html": "Commands completed successfully."
                    },
                    "metadata": {}
                },
                {
                    "output_type": "display_data",
                    "data": {
                        "text/html": "(1 row affected)"
                    },
                    "metadata": {}
                },
                {
                    "output_type": "display_data",
                    "data": {
                        "text/html": "Total execution time: 00:00:00.065"
                    },
                    "metadata": {}
                },
                {
                    "output_type": "execute_result",
                    "metadata": {},
                    "execution_count": 6,
                    "data": {
                        "application/vnd.dataresource+json": {
                            "schema": {
                                "fields": [
                                    {
                                        "name": "Name"
                                    },
                                    {
                                        "name": "City"
                                    },
                                    {
                                        "name": "StartDate"
                                    },
                                    {
                                        "name": "EndDate"
                                    }
                                ]
                            },
                            "data": [
                                {
                                    "0": "Koos",
                                    "1": "Amsterdam Oud-Zuid",
                                    "2": "2006-10-30",
                                    "3": "2010-05-25"
                                }
                            ]
                        },
                        "text/html": "<table><tr><th>Name</th><th>City</th><th>StartDate</th><th>EndDate</th></tr><tr><td>Koos</td><td>Amsterdam Oud-Zuid</td><td>2006-10-30</td><td>2010-05-25</td></tr></table>"
                    }
                }
            ],
            "execution_count": 6
        },
        {
            "cell_type": "markdown",
            "source": [
                "## DIY TVF schrijven"
            ],
            "metadata": {
                "azdata_cell_guid": "467efe27-0117-4833-9946-7e974fcd111c"
            }
        },
        {
            "cell_type": "code",
            "source": [
                ""
            ],
            "metadata": {
                "azdata_cell_guid": "546a56d5-1c8d-447f-a35e-f53539818654"
            },
            "outputs": [],
            "execution_count": 0
        },
        {
            "cell_type": "markdown",
            "source": [
                "## TVF combineren: APPLY"
            ],
            "metadata": {
                "azdata_cell_guid": "4d1dff0e-0857-4361-8d56-a76f15a16807"
            }
        }
    ]
}