{
    "metadata": {
        "kernelspec": {
            "name": "SQL",
            "display_name": "SQL",
            "language": "sql"
        },
        "language_info": {
            "name": "sql",
            "version": ""
        }
    },
    "nbformat_minor": 2,
    "nbformat": 4,
    "cells": [
        {
            "cell_type": "markdown",
            "source": [
                "# Functions and APPLY\n",
                "\n",
                "\n",
                "* Functie schrijven\n",
                "* Functie toepassen\n",
                "* CROSS APPLY\n",
                "* OUTER APPLY\n",
                "\n",
                "\n",
                ""
            ],
            "metadata": {
                "azdata_cell_guid": "db87f804-b5e8-4119-8d8c-d71008b81336"
            }
        }
    ]
}