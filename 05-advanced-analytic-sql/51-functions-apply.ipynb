{
    "metadata": {
        "kernelspec": {
            "name": "SQL",
            "display_name": "SQL",
            "language": "sql"
        },
        "language_info": {
            "name": "sql",
            "version": ""
        }
    },
    "nbformat_minor": 2,
    "nbformat": 4,
    "cells": [
        {
            "cell_type": "markdown",
            "source": [
                "# Functions and APPLY\n",
                "\n",
                "\n",
                "* Functie schrijven\n",
                "* Functie toepassen\n",
                "* CROSS APPLY\n",
                "* OUTER APPLY\n",
                "\n",
                "\n",
                ""
            ],
            "metadata": {
                "azdata_cell_guid": "db87f804-b5e8-4119-8d8c-d71008b81336"
            }
        },
        {
            "cell_type": "markdown",
            "source": [
                "## Scalar functions\r\n",
                "\r\n",
                "The most basic function group within T-SQL are *scalar functions*. They can accept multiple parameters, but return only a single value.\r\n",
                "\r\n",
                "As a result, you can use them inside any SELECT statement.\r\n",
                "You might have used one of these functions already:\r\n",
                "\r\n",
                "* `GETDATE()`\r\n",
                "* `NEWID()`\r\n",
                "* `YEAR()`\r\n",
                ""
            ],
            "metadata": {
                "azdata_cell_guid": "64cef57a-3e94-4d00-892a-34b4e462f624"
            }
        },
        {
            "cell_type": "code",
            "source": [
                ""
            ],
            "metadata": {
                "azdata_cell_guid": "e079cb55-598f-4143-8367-a1f9bc833692"
            },
            "outputs": [],
            "execution_count": 0
        },
        {
            "cell_type": "markdown",
            "source": [
                "## Table-valued functions\r\n",
                "\r\n",
                "A second type of function is a *table-valued function*. Table-valued functions return, well, a *table*.\r\n",
                "\r\n",
                "One way table-valued functions (TVFs) are used often in Data Warehousing is as *parameterized views*.\r\n",
                "\r\n",
                "Below is an example for a historical table, and an accompanying TVF dat helps you to view the table *as it was on a certain point in time*."
            ],
            "metadata": {
                "azdata_cell_guid": "e7b1b201-8504-4dec-b4d9-503340ae4271"
            }
        },
        {
            "cell_type": "code",
            "source": [
                "IF OBJECT_ID('dbo.addresses') IS NOT NULL\r\n",
                "    DROP TABLE dbo.addresses;\r\n",
                "\r\n",
                "IF OBJECT_ID('dbo.address_at') IS NOT NULL\r\n",
                "    DROP FUNCTION dbo.address_at;\r\n",
                "\r\n",
                "SELECT\r\n",
                "    *\r\n",
                "INTO dbo.addresses\r\n",
                "FROM (VALUES \r\n",
                "    ('Koos', 'Wilnis', '1986-12-24', '2005-08-31')\r\n",
                "    , ('Koos', 'Amsterdam West', '2005-08-31', '2006-05-15')\r\n",
                "    , ('Koos', 'Wilnis', '2006-05-15', '2006-10-30')\r\n",
                "    , ('Koos', 'Amsterdam Oud-Zuid', '2006-10-30', '2010-05-25')\r\n",
                "    , ('Koos', 'Amsterdam Centrum', '2010-05-25', '2011-04-20')\r\n",
                ") AS customer ([Name], City, StartDate, EndDate);\r\n",
                "\r\n",
                "GO\r\n",
                "\r\n",
                "CREATE FUNCTION address_at(@date DATETIME2) \r\n",
                "RETURNS TABLE\r\n",
                "AS \r\n",
                "RETURN\r\n",
                "SELECT * \r\n",
                "FROM dbo.addresses\r\n",
                "WHERE StartDate <= @date AND EndDate > @date\r\n",
                "\r\n",
                "GO\r\n",
                "\r\n",
                "SELECT * FROM address_at ('2007-01-01')"
            ],
            "metadata": {
                "azdata_cell_guid": "1ae4a295-ca8f-4088-9fca-92d9dafec028"
            },
            "outputs": [
                {
                    "output_type": "display_data",
                    "data": {
                        "text/html": "(5 rows affected)"
                    },
                    "metadata": {}
                },
                {
                    "output_type": "display_data",
                    "data": {
                        "text/html": "Commands completed successfully."
                    },
                    "metadata": {}
                },
                {
                    "output_type": "display_data",
                    "data": {
                        "text/html": "(1 row affected)"
                    },
                    "metadata": {}
                },
                {
                    "output_type": "display_data",
                    "data": {
                        "text/html": "Total execution time: 00:00:00.065"
                    },
                    "metadata": {}
                },
                {
                    "output_type": "execute_result",
                    "execution_count": 6,
                    "data": {
                        "application/vnd.dataresource+json": {
                            "schema": {
                                "fields": [
                                    {
                                        "name": "Name"
                                    },
                                    {
                                        "name": "City"
                                    },
                                    {
                                        "name": "StartDate"
                                    },
                                    {
                                        "name": "EndDate"
                                    }
                                ]
                            },
                            "data": [
                                {
                                    "0": "Koos",
                                    "1": "Amsterdam Oud-Zuid",
                                    "2": "2006-10-30",
                                    "3": "2010-05-25"
                                }
                            ]
                        },
                        "text/html": "<table><tr><th>Name</th><th>City</th><th>StartDate</th><th>EndDate</th></tr><tr><td>Koos</td><td>Amsterdam Oud-Zuid</td><td>2006-10-30</td><td>2010-05-25</td></tr></table>"
                    },
                    "metadata": {}
                }
            ],
            "execution_count": 6
        },
        {
            "cell_type": "markdown",
            "source": [
                ""
            ],
            "metadata": {
                "azdata_cell_guid": "4505d75b-5148-4b2d-88fc-ecca7b4afb35"
            }
        },
        {
            "cell_type": "markdown",
            "source": [
                "## Write a TVF\r\n",
                "\r\n",
                "* Use the example above to write a table-valued function `dbo.productsWithinCategory`\r\n",
                "* It should return all products inside a certain category\r\n",
                "* The category should be provided via a parameter\r\n",
                "* Bonus: if no category is provided, all products from all categories should be returned. You don't need an `IF` statement to achieve this."
            ],
            "metadata": {
                "azdata_cell_guid": "467efe27-0117-4833-9946-7e974fcd111c"
            }
        },
        {
            "cell_type": "code",
            "source": [
                ""
            ],
            "metadata": {
                "azdata_cell_guid": "546a56d5-1c8d-447f-a35e-f53539818654"
            },
            "outputs": [],
            "execution_count": 0
        },
        {
            "cell_type": "markdown",
            "source": [
                "## Using a TVF to \"join\" \r\n",
                "\r\n",
                "Now we want to see the average price of all product categories. Try the following:\r\n",
                "\r\n",
                "* Select all product categories from the `Production.ProductCategory` table\r\n",
                "* Join to the table-valued function you just created `dbo.productWithinCategory`\r\n",
                "\r\n",
                "Can you get it to work? (Hint: you shouldn't, but try it nonetheless)"
            ],
            "metadata": {
                "azdata_cell_guid": "4d1dff0e-0857-4361-8d56-a76f15a16807"
            }
        },
        {
            "cell_type": "code",
            "source": [
                ""
            ],
            "metadata": {
                "azdata_cell_guid": "831d8674-be59-4163-b61b-99094fb63df3"
            },
            "outputs": [],
            "execution_count": 0
        },
        {
            "cell_type": "markdown",
            "source": [
                "## APPLY\r\n",
                "\r\n",
                "Just above, you tried to:\r\n",
                "\r\n",
                "1. Create a result set using a TVF that you provided with a parameter. The contents of this parameter came from a table.\r\n",
                "2. But, because you used a `JOIN`, at the same time the table that provided the parameter needed to be filtered by the results of the TVF\r\n",
                "\r\n",
                "Of course, you could think up a way to programmatically work around this. In SQL, this is done using the `APPLY` construct. Basically:\r\n",
                "\r\n",
                "* If you want to `INNER JOIN` a TVF, but the value of the parameter(s) come from within your dataset, you use a `CROSS APPLY` statement\r\n",
                "* If you want to `LEFT JOIN` a TVF, but the value of the parameter(s) come from within your dataset, you use an `OUTER APPLY` statement\r\n",
                "\r\n",
                "Because the TVF is itself already filtered using the parameters, you don't need an `ON` clause here.\r\n",
                "\r\n",
                "Re-try the following:\r\n",
                "\r\n",
                "* Select all product categories from the `Production.ProductCategory` table\r\n",
                "* APPLY the table-valued function you just created `dbo.productWithinCategory`"
            ],
            "metadata": {
                "azdata_cell_guid": "e2a3aaba-56b3-4325-9b19-ddb775efc34d"
            }
        }
    ]
}