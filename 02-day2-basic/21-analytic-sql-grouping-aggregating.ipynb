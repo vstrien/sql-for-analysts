{
    "metadata": {
        "kernelspec": {
            "name": "SQL",
            "display_name": "SQL",
            "language": "sql"
        },
        "language_info": {
            "name": "sql",
            "version": ""
        }
    },
    "nbformat_minor": 2,
    "nbformat": 4,
    "cells": [
        {
            "cell_type": "markdown",
            "source": "# Grouping and Aggregating\r\n\r\nAll queries should be executed & written against AdventureWorks2017 (not the LT database)",
            "metadata": {}
        },
        {
            "cell_type": "code",
            "source": "",
            "metadata": {},
            "outputs": [],
            "execution_count": 0
        },
        {
            "cell_type": "markdown",
            "source": "## Best-selling products\r\n\r\nWe start off by some analysis about the performance of our products.",
            "metadata": {}
        },
        {
            "cell_type": "markdown",
            "source": "1. What is the most expensive product we ever sold?",
            "metadata": {}
        },
        {
            "cell_type": "code",
            "source": "",
            "metadata": {},
            "outputs": [],
            "execution_count": 0
        },
        {
            "cell_type": "markdown",
            "source": "2. Which product has the highest margin (based on list price and standard cost)",
            "metadata": {}
        },
        {
            "cell_type": "code",
            "source": "",
            "metadata": {},
            "outputs": [],
            "execution_count": 0
        },
        {
            "cell_type": "markdown",
            "source": "3. Give the total sales per customer. Use `SubTotal` from `Sales.SalesOrderHeader` and the Customer's Name columns from `Person.Person`. The column `CustomerID`  in `Sales.SalesOrderHeader` points to `BusinessEntityID` in `Person.Person`.",
            "metadata": {}
        },
        {
            "cell_type": "code",
            "source": "",
            "metadata": {},
            "outputs": [],
            "execution_count": 0
        },
        {
            "cell_type": "markdown",
            "source": "4. Give the total sales per year `Sales.SalesOrderHeader`. Use the function `YEAR()` on top of the `OrderDate` column to split out the years. Make sure years aren't listed multiple times in your result set!",
            "metadata": {}
        },
        {
            "cell_type": "code",
            "source": "",
            "metadata": {},
            "outputs": [],
            "execution_count": 0
        },
        {
            "cell_type": "markdown",
            "source": "5. Give the total profit per year for Bikes only.",
            "metadata": {}
        },
        {
            "cell_type": "code",
            "source": "",
            "metadata": {},
            "outputs": [],
            "execution_count": 0
        },
        {
            "cell_type": "markdown",
            "source": "6. List the top 10 customers:\r\n   * in number of products (so the customer who bought the most items from us is #1)\r\n   * in variety of products (the customers who bought 10 million different items from us is #1)\r\n   * in sales amount\r\n   * in profitability",
            "metadata": {}
        },
        {
            "cell_type": "code",
            "source": "",
            "metadata": {},
            "outputs": [],
            "execution_count": 0
        },
        {
            "cell_type": "code",
            "source": "",
            "metadata": {},
            "outputs": [],
            "execution_count": 0
        },
        {
            "cell_type": "code",
            "source": "",
            "metadata": {},
            "outputs": [],
            "execution_count": 0
        },
        {
            "cell_type": "code",
            "source": "",
            "metadata": {},
            "outputs": [],
            "execution_count": 0
        },
        {
            "cell_type": "markdown",
            "source": "7. Return all customers who have more than 1 address registered. Include the following columns:\r\n   * First name\r\n   * Last name\r\n   * Number of addresses",
            "metadata": {}
        },
        {
            "cell_type": "code",
            "source": "",
            "metadata": {},
            "outputs": [],
            "execution_count": 0
        },
        {
            "cell_type": "markdown",
            "source": "8. Give for each order year the following information about the product names sold in that year:\r\n   * The length of the longest product name\r\n   * The length of the shortest product name\r\n   * The average length of the product name\r\n\r\n*If you'd like, also add a standard deviation. Decide for yourself whether you use a sample or the population here*",
            "metadata": {}
        },
        {
            "cell_type": "code",
            "source": "",
            "metadata": {},
            "outputs": [],
            "execution_count": 0
        },
        {
            "cell_type": "markdown",
            "source": "",
            "metadata": {}
        }
    ]
}