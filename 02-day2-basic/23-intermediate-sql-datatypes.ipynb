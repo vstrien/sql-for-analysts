{
    "metadata": {
        "kernelspec": {
            "name": "SQL",
            "display_name": "SQL",
            "language": "sql"
        },
        "language_info": {
            "name": "sql",
            "version": ""
        }
    },
    "nbformat_minor": 2,
    "nbformat": 4,
    "cells": [
        {
            "cell_type": "markdown",
            "source": "# SQL Datatypes\r\n\r\nEvery column in every table inside a SQL Database has a so-called \"datatype\". This determines the type of data that fits in, and the detail with which data is stored. A full list of data types can be found in the Microsoft docs - but instead of giving you the link, [just google for \"t-sql data types\"](http://lmgtfy.com/?q=t-sql+data+types) to find the docs. It will come in handy as a reference in this module (plus, the habit of looking up documentation this way will serve you well as SQL Server user).\r\n\r\nAs soon as you are on the Microsoft Docs about SQL Data Types, notice the link on the left that says **Precedence**. This is the one that tells you which data type will be automatically converted into another data type. Don't worry about storing this page: it will almost always be easier to test how it works in SQL than to read the docs about precedence. Just remember the phrase in case you need it :-).",
            "metadata": {}
        },
        {
            "cell_type": "markdown",
            "source": "## Explicit conversions\r\n\r\n1. Select the \"Title\" concatenated with the \"Id\" column in the table \"Customer\"",
            "metadata": {}
        },
        {
            "cell_type": "code",
            "source": "",
            "metadata": {},
            "outputs": [],
            "execution_count": 0
        },
        {
            "cell_type": "markdown",
            "source": "\r\n2. Select the \"Name\" column from ProductCategory. Make sure only the first columns are displayed by casting to a smaller CHAR or VARCHAR-datatype.",
            "metadata": {}
        },
        {
            "cell_type": "code",
            "source": "",
            "metadata": {},
            "outputs": [],
            "execution_count": 0
        },
        {
            "cell_type": "markdown",
            "source": "3. Select 100 rows from `Sales.SalesOrderDetail`. Join where necessary\r\n   * You should return only one column\r\n   * The column should read as a text, saying things like:\r\n     * Customer James Hendergart bought 4 Sport-100 Helmet, Blue(s) at a price of $80.746000\r\n     * Customer Takiko J. Collins bought 1 Road-650 Red, 44(s) at a price of $419.458900\r\n     * Generalized: Customer `firstname` `middlename ` `lastname` bought `orderqty` `product name`(s) at a price of `linetotal`\r\n     * Use the `CONCAT()` function to construct your sentence.\r\n   * Bonus points:\r\n     * Customers without a middle name should have only one space between first- and last name\r\n     * When OrderQty > 1, a \"s\" is added after the product name. When OrderQty = 1, no \"s\" is added:\r\n        * Customer James Hendergart bought 4 Sport-100 Helmet, Blue**s** at a price of $80.746000\r\n        * Customer Takiko J. Collins bought 1 Road-650 Red, 44 at a price of $419.458900\r\n        * You can solve this problem in two ways:\r\n           1. Using Set operators\r\n           2. Using a `CASE` statement",
            "metadata": {}
        },
        {
            "cell_type": "code",
            "source": "",
            "metadata": {},
            "outputs": [],
            "execution_count": 0
        },
        {
            "cell_type": "markdown",
            "source": "3. Convert the following formats *using SQL* to a correct Date format:\r\n   * `'2019/04/06'` (U.S. notation: 4th of June, 2019)\r\n   * `'04-06-2019'` (Italian notation: 4th of June, 2019)\r\n   * `'190604'` (short ISO notation)\r\n   * Bonus:\r\n     * Get the ISO week numbers for one of these dates\r\n     * Display one of these dates as a Chinese (Simplified PRC) formatted date using the `FORMAT` constructor",
            "metadata": {}
        },
        {
            "cell_type": "code",
            "source": "",
            "metadata": {},
            "outputs": [],
            "execution_count": 0
        },
        {
            "cell_type": "markdown",
            "source": "4. (Bonus) Select all products where the letter-digit pattern is like 'AR-5381' (two letters, hyphen, four digits). Add one to each number.\r\n   * Hint: Use `LEFT` and `RIGHT` to select a certain part of a `VARCHAR`",
            "metadata": {}
        }
    ]
}