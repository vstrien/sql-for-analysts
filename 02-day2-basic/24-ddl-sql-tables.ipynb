{
    "metadata": {
        "kernelspec": {
            "name": "SQL",
            "display_name": "SQL",
            "language": "sql"
        },
        "language_info": {
            "name": "sql",
            "version": ""
        }
    },
    "nbformat_minor": 2,
    "nbformat": 4,
    "cells": [
        {
            "cell_type": "markdown",
            "source": "# Creating tables",
            "metadata": {}
        },
        {
            "cell_type": "markdown",
            "source": "1. Create a Table named `Production.ColorValuation`, with the following columns:\r\n   * Color. This column will contain the same colors as used in the `Production.Product` table\r\n   * NumberOfOccurences. The times a given color is listed will be stored here. Expect large, but not too large values (more than 100.000 times is pretty unlikely)\r\n   * TotalPrice. Here you will store the sum of the listprices of all products added together. Very useful indeed.\r\n\r\nAll columns except *Color* may be empty.",
            "metadata": {}
        },
        {
            "cell_type": "code",
            "source": "",
            "metadata": {},
            "outputs": [],
            "execution_count": 0
        },
        {
            "cell_type": "markdown",
            "source": "2. Insert the following rows, and verify they fit into the table:\r\n\r\n| Color      | NumberOfOccurences | TotalPrice |\r\n|------------|--------------------|------------|\r\n| Red        | 42                 | NULL       |\r\n| Blue       | NULL               | 31         |\r\n| Yellow-ish | 11                 | 7          |\r\n",
            "metadata": {}
        },
        {
            "cell_type": "code",
            "source": "",
            "metadata": {},
            "outputs": [],
            "execution_count": 0
        },
        {
            "cell_type": "markdown",
            "source": "3. Delete the rows again.",
            "metadata": {}
        },
        {
            "cell_type": "code",
            "source": "",
            "metadata": {},
            "outputs": [],
            "execution_count": 0
        },
        {
            "cell_type": "markdown",
            "source": "The syntax of `INSERT` we used until now was something like this:\r\n\r\n```sql\r\nINSERT INTO [schema].[table] (\r\n    column1, \r\n    ..., \r\n    column_n\r\n)\r\nVALUES\r\n(\r\n    expression + for - column1,\r\n    ...,\r\n    CONCAT('another', expression+for, ' --> column_n!')   -- Because - as we now know - we aren't limited to columns or direct values, but can use expressions containing functions\r\n)\r\n```\r\n\r\nHowever, instead of inserting data by hand using `INSERT INTO (...) VALUES`, we can also use the `INSERT ... SELECT` syntax:\r\n\r\n```sql\r\nINSERT INTO [schema].[table] (\r\n    column1, \r\n    ..., \r\n    column_n\r\n)\r\nSELECT\r\n    expression_for_column1,\r\n    ...,\r\n    expression_for_column_n\r\nFROM (...) -- Here follows your regular SELECT syntax. FROM, JOIN, WHERE, GROUP BY as you like.\r\n```\r\n\r\n4. Use the `INSERT .. SELECT` syntax to insert data to the `Production.ColorValuation` table selected from the `Production.Product` table:\r\n   * The number of rows belonging to each color\r\n   * The sum of list prices for each color\r\n   * `NULL` is not a color. And even if it was, you couldn't insert it into your table:-). Take care.",
            "metadata": {}
        },
        {
            "cell_type": "code",
            "source": "",
            "metadata": {},
            "outputs": [],
            "execution_count": 0
        },
        {
            "cell_type": "markdown",
            "source": "5. Using `Production.Product` combined with `Production.ColorValuation`, select the following information:\r\n   * Product name\r\n   * Color\r\n   * List price\r\n   * Percentage of the sum of all list prices for that color",
            "metadata": {}
        },
        {
            "cell_type": "code",
            "source": "",
            "metadata": {},
            "outputs": [],
            "execution_count": 0
        },
        {
            "cell_type": "markdown",
            "source": "",
            "metadata": {}
        }
    ]
}