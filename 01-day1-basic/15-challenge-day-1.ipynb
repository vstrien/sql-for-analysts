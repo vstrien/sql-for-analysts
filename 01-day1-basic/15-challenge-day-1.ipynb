{
    "metadata": {
        "kernelspec": {
            "name": "SQL",
            "display_name": "SQL",
            "language": "sql"
        },
        "language_info": {
            "name": "sql",
            "version": ""
        }
    },
    "nbformat_minor": 2,
    "nbformat": 4,
    "cells": [
        {
            "cell_type": "markdown",
            "source": "# Challenge - day 1\r\n\r\n## Introduction\r\n\r\nDuring the course until this moment, we've encountered various parts of the SQL language:\r\n\r\n* SELECT statements\r\n  * Sorting \r\n  * Filtering\r\n* Joins\r\n  * Carthesian products (cross join)\r\n  * Inner join\r\n  * Outer joins:\r\n    * Left\r\n    * Right\r\n    * Full\r\n* Insert\r\n* Update\r\n* Delete\r\n\r\nIn the \"Challenge\", the various parts come together: you'll have to apply the several parts together to solve these little \"puzzles\".\r\n\r\n## About the AdventureWorks database\r\n\r\nIn this \"Challenge\", we'll use the *AdventureWorks2017* database. This database has a lot of tables and schemas, so maybe you won't find everything at once. Some ways to explore the data structures:\r\n\r\n* Use the \"Search\" functionality in Azure Data Studio (double click on a database name to open the *Database Dashboard* with a *Search* box in it)\r\n* Google for the AdventureWorks 2017 Diagram (but don't spend too long staring to these pictures)\r\n* Ask someone else (last resort: the trainer)\r\n\r\n## Puzzles",
            "metadata": {}
        },
        {
            "cell_type": "markdown",
            "source": "### Persons and addresses\r\n\r\nWe work with the following tables:\r\n\r\n* `Person.Person`\r\n* `Person.BusinessEntityAddress`\r\n* `Person.Address`\r\n\r\nYou should know that the `AdventureWorks` source systems sometimes use system-wide unique keys. They call this a `BusinessEntityID`. For example, within the `Person.Person` table, the `BusinessEntityID` means the same as `PersonID`.",
            "metadata": {}
        },
        {
            "cell_type": "markdown",
            "source": "1. Find out the number of persons within the database. \r\n   * How many distinct BusinessEntityID's do you have?",
            "metadata": {}
        },
        {
            "cell_type": "code",
            "source": "",
            "metadata": {},
            "outputs": [],
            "execution_count": 0
        },
        {
            "cell_type": "markdown",
            "source": "2. Join `Person.Person` via `Person.BusinessEntityAddress` towards `Person.Address`. Include only persons with addresses.\r\n   * How many rows do you see? \r\n   * How many distinct BusinessEntityID's do you have left?",
            "metadata": {}
        },
        {
            "cell_type": "code",
            "source": "",
            "metadata": {},
            "outputs": [],
            "execution_count": 0
        },
        {
            "cell_type": "markdown",
            "source": "3. Join `Person.Person` via `Person.BusinessEntityAddress` towards `Person.Address`. Include all persons, with or without addresses. Exclude addresses without persons attached.\r\n    * How many rows do you see?\r\n    * Check that the distinct of unique BusinessEntityID's is the same as in puzzle #1",
            "metadata": {}
        },
        {
            "cell_type": "code",
            "source": "",
            "metadata": {},
            "outputs": [],
            "execution_count": 0
        },
        {
            "cell_type": "markdown",
            "source": "4. Join `Person.Person` via `Person.BusinessEntityAddress` towards `Person.Address`.\r\n   * In the `JOIN` clause, include all persons, with or without addresses \r\n   * In the `WHERE` clause, filter on customerse *without* an address (you can check for *NULL* values using `WHERE [column_name IS NULL]`)",
            "metadata": {}
        },
        {
            "cell_type": "code",
            "source": "",
            "metadata": {},
            "outputs": [],
            "execution_count": 0
        },
        {
            "cell_type": "markdown",
            "source": "### Sales\r\n\r\nWe add the following tables to work with:\r\n\r\n* `Production.Product`\r\n* `Production.ProductSubcategory`\r\n* `Production.ProductCategory`\r\n* `Sales.SalesOrderDetail` (contains order rows / line items: quantity, product, price, discount, etc.)\r\n* `Sales.SalesOrderHeader` (contains order-level items: shipping cost, total due, date ordered, etc.)\r\n\r\n*Know that you can join a Customer stored in `Person` to `SalesOrderHeader` via `Person.BusinessEntityID = SalesOrderHeader.CustomerID`*",
            "metadata": {}
        },
        {
            "cell_type": "markdown",
            "source": "5. Get all orders (stored in `SalesOrderHeader`) placed by any customer with the name `Mary`",
            "metadata": {}
        },
        {
            "cell_type": "code",
            "source": "",
            "metadata": {},
            "outputs": [],
            "execution_count": 0
        },
        {
            "cell_type": "markdown",
            "source": "6. Get all distinct colors of products that were ordered by any customer with the name `John`\r\n   * You'll need to navigate from `Person` to `SalesOrderHeader` to `SalesOrderDetail` to `Product`",
            "metadata": {}
        },
        {
            "cell_type": "code",
            "source": "",
            "metadata": {},
            "outputs": [],
            "execution_count": 0
        },
        {
            "cell_type": "markdown",
            "source": "7. Get all products that have never been sold (you can use the pattern of puzzle #4 here)",
            "metadata": {}
        },
        {
            "cell_type": "code",
            "source": "",
            "metadata": {},
            "outputs": [],
            "execution_count": 0
        },
        {
            "cell_type": "markdown",
            "source": "8. Get all distinct products with a list price larger than $ 200, that have ever been sold to persons with a Firstname starting with 'A'",
            "metadata": {}
        },
        {
            "cell_type": "code",
            "source": "",
            "metadata": {},
            "outputs": [],
            "execution_count": 0
        },
        {
            "cell_type": "markdown",
            "source": "9. Select the distinct list of product category names (inside the `ProductCategory` table)\r\n   * Include only the product categories in which products are ever ordered by customers with a first name starting with 'N', and a last name ending with 'm', so for example:\r\n      * Meghan I. Alan\r\n      * Mackenzy Allen\r\n      * Mary Allen\r\n      * Mario J. Andersen\r\n      * etc.",
            "metadata": {}
        },
        {
            "cell_type": "code",
            "source": "",
            "metadata": {},
            "outputs": [],
            "execution_count": 0
        },
        {
            "cell_type": "markdown",
            "source": "10. Insert a new ProductCategory. Define the following columns:\r\n    * **Name**: `'Cars'`\r\n    * **ModifiedDate**: `GETDATE()`\r\n\r\n*Notice `GETDATE()`: this is a function within T-SQL and not a value, so you don't put quotes around it!*\r\n\r\n**Check the ProductCategoryID of the category you just created**",
            "metadata": {}
        },
        {
            "cell_type": "code",
            "source": "",
            "metadata": {},
            "outputs": [],
            "execution_count": 0
        },
        {
            "cell_type": "markdown",
            "source": "11. Update the `ProductSubcategory` table, so that `Touring Bikes` is renamed to `Touring Cars`, and the *ProductCategoryID* column is filled with the *ProductCategoryID* from the \"Cars\" category created in puzzle #10.",
            "metadata": {}
        },
        {
            "cell_type": "code",
            "source": "",
            "metadata": {},
            "outputs": [],
            "execution_count": 0
        },
        {
            "cell_type": "markdown",
            "source": "12. Get all products where:\r\n    * A person ordered the product whose first name started with 'M' and last name ended with 'n'\r\n    * The Product Category is 'Cars'\r\n\r\n*You should get 8 products*",
            "metadata": {}
        },
        {
            "cell_type": "code",
            "source": "",
            "metadata": {},
            "outputs": [],
            "execution_count": 0
        },
        {
            "cell_type": "markdown",
            "source": "13. Undo your changes introduced in puzzle #11: rename subcategory `Touring Cars` back to `Touring Bikes`, and update *ProductCategoryID* to 1 (Bikes) for these rows.",
            "metadata": {}
        },
        {
            "cell_type": "code",
            "source": "",
            "metadata": {},
            "outputs": [],
            "execution_count": 0
        },
        {
            "cell_type": "markdown",
            "source": "14. Delete the Product Category \"Bikes\"",
            "metadata": {}
        }
    ]
}