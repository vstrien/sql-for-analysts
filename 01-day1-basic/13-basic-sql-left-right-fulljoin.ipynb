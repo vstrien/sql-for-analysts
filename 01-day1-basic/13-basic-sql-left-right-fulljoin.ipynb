{
    "metadata": {
        "kernelspec": {
            "name": "SQL",
            "display_name": "SQL",
            "language": "sql"
        },
        "language_info": {
            "name": "sql",
            "version": ""
        }
    },
    "nbformat_minor": 2,
    "nbformat": 4,
    "cells": [
        {
            "cell_type": "code",
            "source": "-- No setup code needed here: everything is available inside the AdventureWorksLT sample database\r\n",
            "metadata": {},
            "outputs": [
                {
                    "output_type": "display_data",
                    "data": {
                        "text/html": "Commands completed successfully."
                    },
                    "metadata": {}
                },
                {
                    "output_type": "display_data",
                    "data": {
                        "text/html": "Total execution time: 00:00:00.0088083"
                    },
                    "metadata": {}
                }
            ],
            "execution_count": 1
        },
        {
            "cell_type": "markdown",
            "source": "# Outer Joins: Left, Right and Full\r\n\r\nIn the previous module, we looked at the `INNER JOIN`. Remember that this started as a Carthesian Product (in SQL a `CROSS JOIN`, which is all possible combinations of rows), that is filtered down afterwards.\r\n\r\n\r\n## The need for outer joins\r\n\r\n### What happens without outer joins\r\n\r\nNow let's say we want to view all customers along with all their registered addresses. In `AdventureWorksLT` we need three tables for that: `Customer` is linked to `Address`, but not directly: there is an intermediate table `CustomerAddress`, allowing multiple customers to have the same address, as well as allowing a single customer to have multiple addresses.\r\n\r\n1. Select all columns from `SalesLT.Customer`\r\n   * Notice the number of rows\r\n2. Join the `CustomerAddress` table\r\n   * What happens to the number of rows?\r\n   * Why does this happen?\r\n",
            "metadata": {}
        },
        {
            "cell_type": "code",
            "source": "-- Enter your code here to select all columns from SalesLT.Customer",
            "metadata": {},
            "outputs": [],
            "execution_count": 0
        },
        {
            "cell_type": "code",
            "source": "-- Copy the code from the previous cell, extend it in order to join the CustomerAddress table",
            "metadata": {},
            "outputs": [],
            "execution_count": 0
        },
        {
            "cell_type": "markdown",
            "source": "### Making sure the rows of one table are always present\r\n\r\nAn **outer join** does the same as an **inner join**: based on a carthesian product it filters only on the rows that match according to the `ON` clause. However, it does something extra: it assures that **when no match is found for a table, still rows are returned**.\r\n\r\nLet's see what that means:\r\n\r\nIn the `Customer` table, two customers are present (actually, 847 customers are present, but we pick these two as an example):",
            "metadata": {}
        },
        {
            "cell_type": "code",
            "source": "SELECT *\r\nFROM SalesLT.Customer\r\nWHERE CustomerID IN (701, 29485);",
            "metadata": {},
            "outputs": [
                {
                    "output_type": "display_data",
                    "data": {
                        "text/html": "(2 rows affected)"
                    },
                    "metadata": {}
                },
                {
                    "output_type": "display_data",
                    "data": {
                        "text/html": "Total execution time: 00:00:00.0276508"
                    },
                    "metadata": {}
                },
                {
                    "output_type": "execute_result",
                    "execution_count": 2,
                    "data": {
                        "application/vnd.dataresource+json": {
                            "schema": {
                                "fields": [
                                    {
                                        "name": "CustomerID"
                                    },
                                    {
                                        "name": "NameStyle"
                                    },
                                    {
                                        "name": "Title"
                                    },
                                    {
                                        "name": "FirstName"
                                    },
                                    {
                                        "name": "MiddleName"
                                    },
                                    {
                                        "name": "LastName"
                                    },
                                    {
                                        "name": "Suffix"
                                    },
                                    {
                                        "name": "CompanyName"
                                    },
                                    {
                                        "name": "SalesPerson"
                                    },
                                    {
                                        "name": "EmailAddress"
                                    },
                                    {
                                        "name": "Phone"
                                    },
                                    {
                                        "name": "PasswordHash"
                                    },
                                    {
                                        "name": "PasswordSalt"
                                    },
                                    {
                                        "name": "rowguid"
                                    },
                                    {
                                        "name": "ModifiedDate"
                                    }
                                ]
                            },
                            "data": [
                                {
                                    "0": "701",
                                    "1": "0",
                                    "2": "Ms.",
                                    "3": "Linda",
                                    "4": "R.",
                                    "5": "Ecoffey",
                                    "6": "NULL",
                                    "7": "Future Bikes",
                                    "8": "adventure-works\\josé1",
                                    "9": "linda5@adventure-works.com",
                                    "10": "674-555-0188",
                                    "11": "zM1odbx2eTJoH556dXSIqTCDa5EBj8DWUSHVo67GEGc=",
                                    "12": "Q5U1IZU=",
                                    "13": "61ae9625-8bd8-48b7-b171-8a90cbba494c",
                                    "14": "2006-12-01 00:00:00.000"
                                },
                                {
                                    "0": "29485",
                                    "1": "0",
                                    "2": "Ms.",
                                    "3": "Catherine",
                                    "4": "R.",
                                    "5": "Abel",
                                    "6": "NULL",
                                    "7": "Professional Sales and Service",
                                    "8": "adventure-works\\linda3",
                                    "9": "catherine0@adventure-works.com",
                                    "10": "747-555-0171",
                                    "11": "zh3goJUbYsPv92k4bVZuJtlLHwuvpQtu6uNcjkKSdF8=",
                                    "12": "rpyd5Tw=",
                                    "13": "392ae773-d7ec-48ac-b8d0-6e65b770285c",
                                    "14": "2009-05-16 16:33:33.077"
                                }
                            ]
                        },
                        "text/html": "<table><tr><th>CustomerID</th><th>NameStyle</th><th>Title</th><th>FirstName</th><th>MiddleName</th><th>LastName</th><th>Suffix</th><th>CompanyName</th><th>SalesPerson</th><th>EmailAddress</th><th>Phone</th><th>PasswordHash</th><th>PasswordSalt</th><th>rowguid</th><th>ModifiedDate</th></tr><tr><td>701</td><td>0</td><td>Ms.</td><td>Linda</td><td>R.</td><td>Ecoffey</td><td>NULL</td><td>Future Bikes</td><td>adventure-works\\josé1</td><td>linda5@adventure-works.com</td><td>674-555-0188</td><td>zM1odbx2eTJoH556dXSIqTCDa5EBj8DWUSHVo67GEGc=</td><td>Q5U1IZU=</td><td>61ae9625-8bd8-48b7-b171-8a90cbba494c</td><td>2006-12-01 00:00:00.000</td></tr><tr><td>29485</td><td>0</td><td>Ms.</td><td>Catherine</td><td>R.</td><td>Abel</td><td>NULL</td><td>Professional Sales and Service</td><td>adventure-works\\linda3</td><td>catherine0@adventure-works.com</td><td>747-555-0171</td><td>zh3goJUbYsPv92k4bVZuJtlLHwuvpQtu6uNcjkKSdF8=</td><td>rpyd5Tw=</td><td>392ae773-d7ec-48ac-b8d0-6e65b770285c</td><td>2009-05-16 16:33:33.077</td></tr></table>"
                    },
                    "metadata": {}
                }
            ],
            "execution_count": 2
        },
        {
            "cell_type": "markdown",
            "source": "The first customer, Linda, doesn't have any address stored. The second one, Catherine, does have an address:",
            "metadata": {}
        },
        {
            "cell_type": "code",
            "source": "SELECT \r\n    * \r\nFROM SalesLT.CustomerAddress\r\nWHERE CustomerID IN (701, 29485);",
            "metadata": {},
            "outputs": [
                {
                    "output_type": "display_data",
                    "data": {
                        "text/html": "(1 row affected)"
                    },
                    "metadata": {}
                },
                {
                    "output_type": "display_data",
                    "data": {
                        "text/html": "Total execution time: 00:00:00.0223868"
                    },
                    "metadata": {}
                },
                {
                    "output_type": "execute_result",
                    "execution_count": 3,
                    "data": {
                        "application/vnd.dataresource+json": {
                            "schema": {
                                "fields": [
                                    {
                                        "name": "CustomerID"
                                    },
                                    {
                                        "name": "AddressID"
                                    },
                                    {
                                        "name": "AddressType"
                                    },
                                    {
                                        "name": "rowguid"
                                    },
                                    {
                                        "name": "ModifiedDate"
                                    }
                                ]
                            },
                            "data": [
                                {
                                    "0": "29485",
                                    "1": "1086",
                                    "2": "Main Office",
                                    "3": "16765338-dbe4-4421-b5e9-3836b9278e63",
                                    "4": "2007-09-01 00:00:00.000"
                                }
                            ]
                        },
                        "text/html": "<table><tr><th>CustomerID</th><th>AddressID</th><th>AddressType</th><th>rowguid</th><th>ModifiedDate</th></tr><tr><td>29485</td><td>1086</td><td>Main Office</td><td>16765338-dbe4-4421-b5e9-3836b9278e63</td><td>2007-09-01 00:00:00.000</td></tr></table>"
                    },
                    "metadata": {}
                }
            ],
            "execution_count": 3
        },
        {
            "cell_type": "markdown",
            "source": "With a simple `INNER JOIN`, Linda would disappear:\r\n",
            "metadata": {}
        },
        {
            "cell_type": "code",
            "source": "SELECT\r\n    Customer.CustomerID\r\n    , Customer.FirstName\r\n    , CustomerAddress.AddressID\r\nFROM SalesLT.Customer\r\nINNER JOIN SalesLT.CustomerAddress\r\n    ON Customer.CustomerID = CustomerAddress.CustomerID\r\nWHERE Customer.CustomerID IN (701, 29485)",
            "metadata": {},
            "outputs": [
                {
                    "output_type": "display_data",
                    "data": {
                        "text/html": "(1 row affected)"
                    },
                    "metadata": {}
                },
                {
                    "output_type": "display_data",
                    "data": {
                        "text/html": "Total execution time: 00:00:00.0207730"
                    },
                    "metadata": {}
                },
                {
                    "output_type": "execute_result",
                    "execution_count": 4,
                    "data": {
                        "application/vnd.dataresource+json": {
                            "schema": {
                                "fields": [
                                    {
                                        "name": "CustomerID"
                                    },
                                    {
                                        "name": "FirstName"
                                    },
                                    {
                                        "name": "AddressID"
                                    }
                                ]
                            },
                            "data": [
                                {
                                    "0": "29485",
                                    "1": "Catherine",
                                    "2": "1086"
                                }
                            ]
                        },
                        "text/html": "<table><tr><th>CustomerID</th><th>FirstName</th><th>AddressID</th></tr><tr><td>29485</td><td>Catherine</td><td>1086</td></tr></table>"
                    },
                    "metadata": {}
                }
            ],
            "execution_count": 4
        },
        {
            "cell_type": "markdown",
            "source": "We can fix this using a `LEFT OUTER JOIN`. This ensures that the **left** side of the JOIN clause (in this case `SalesLT.Customer`) will always have all their rows returned:",
            "metadata": {}
        },
        {
            "cell_type": "code",
            "source": "SELECT\r\n    Customer.CustomerID\r\n    , Customer.FirstName\r\n    , CustomerAddress.AddressID\r\nFROM SalesLT.Customer\r\nLEFT JOIN SalesLT.CustomerAddress\r\n    ON Customer.CustomerID = CustomerAddress.CustomerID\r\nWHERE Customer.CustomerID IN (701, 29485)",
            "metadata": {},
            "outputs": [
                {
                    "output_type": "display_data",
                    "data": {
                        "text/html": "(2 rows affected)"
                    },
                    "metadata": {}
                },
                {
                    "output_type": "display_data",
                    "data": {
                        "text/html": "Total execution time: 00:00:00.0207287"
                    },
                    "metadata": {}
                },
                {
                    "output_type": "execute_result",
                    "execution_count": 5,
                    "data": {
                        "application/vnd.dataresource+json": {
                            "schema": {
                                "fields": [
                                    {
                                        "name": "CustomerID"
                                    },
                                    {
                                        "name": "FirstName"
                                    },
                                    {
                                        "name": "AddressID"
                                    }
                                ]
                            },
                            "data": [
                                {
                                    "0": "701",
                                    "1": "Linda",
                                    "2": "NULL"
                                },
                                {
                                    "0": "29485",
                                    "1": "Catherine",
                                    "2": "1086"
                                }
                            ]
                        },
                        "text/html": "<table><tr><th>CustomerID</th><th>FirstName</th><th>AddressID</th></tr><tr><td>701</td><td>Linda</td><td>NULL</td></tr><tr><td>29485</td><td>Catherine</td><td>1086</td></tr></table>"
                    },
                    "metadata": {}
                }
            ],
            "execution_count": 5
        },
        {
            "cell_type": "markdown",
            "source": "So in order to see all addresses for all customers, **and also return customers without an address**, we could use the LEFT JOIN in exactly the manner above (but omitting the `WHERE` clause).\r\n\r\n1. Correct your earlier query so that all customers are returned along with all their addresses. This time customers like Linda (without an address) should also be returned.\r\n2. Extend this query with the actual address (from the `SalesLT.Address` table). Think about the following points:\r\n   * Every row in `CustomerAddress` points to a valid row in `Address`\r\n   * Should we still use a LEFT JOIN, or can we do with an INNER JOIN? (try this!)\r\n   * Why?",
            "metadata": {}
        },
        {
            "cell_type": "code",
            "source": "-- Copy the query you created earlier into this cell. \r\n-- Correct the query according to exercise 1",
            "metadata": {},
            "outputs": [],
            "execution_count": 0
        },
        {
            "cell_type": "code",
            "source": "-- Copy the query from the cell above\r\n-- Extend it according to exercise 2",
            "metadata": {},
            "outputs": [],
            "execution_count": 0
        },
        {
            "cell_type": "markdown",
            "source": "## LEFT, RIGHT, FULL\r\n\r\nThere are three types of outer joins:\r\n\r\n* `LEFT OUTER JOIN` (or `LEFT JOIN`) ensures that rows on the left side are always returned at least once\r\n* `RIGHT OUTER JOIN` (or `RIGHT JOIN`) ensures that rows on the right side are always returned at least once\r\n* `FULL OUTER JOIN` (or `FULL JOIN`) ensures that rows on both side are always returned at least once\r\n\r\nPlease note that *left* and *right* don't have anything to do with the order of your `ON` clause. The following two queries (displaying even more obvious which side is left / right) are identical:\r\n\r\n```sql\r\nSELECT\r\n    [columns]\r\nFROM [TableA] LEFT OUTER JOIN [TableB] ON [TableA].[Column] = [TableB].[Column];\r\n    -- ^ Left                   ^ Right\r\n\r\n-- is the same as (notice the ON clause has flipped around)\r\n\r\nSELECT\r\n    [columns]\r\nFROM [TableA] LEFT OUTER JOIN [TableB] ON [TableB].[Column] = [TableA].[Column]\r\n    -- ^ (still) left           ^ (still) right\r\n```\r\n\r\nPerform the following actions to the query you were writing earlier:\r\n\r\n3. Extend your query so that all addresses (regardless whether a customer lives there) are displayed as well. You should have 890 rows now.\r\n4. If you need a bit more challenge: take the earlier query (resulting in 857 rows). Try to rewrite this one so that you use one `INNER JOIN` and one `RIGHT JOIN`, but still have the same result.",
            "metadata": {}
        },
        {
            "cell_type": "code",
            "source": "-- Copy the query from exercise 2 in this cell\r\n-- Extend it according to exercise 3",
            "metadata": {},
            "outputs": [],
            "execution_count": 0
        },
        {
            "cell_type": "code",
            "source": "-- Copy the query from exercise 2 (NOT the one from 3!)\r\n-- Rewrite this one so you use only one INNER JOIN together with one RIGHT JOIN - as stated in exercise 4.\r\n-- The result should be the same.",
            "metadata": {},
            "outputs": [],
            "execution_count": 0
        },
        {
            "cell_type": "markdown",
            "source": "### Avoiding Right Joins\r\n\r\nA right join can be pretty useful, but it has some nasty side-effects. Let's say we've our query from above which neatly preserves all customers:\r\n",
            "metadata": {}
        },
        {
            "cell_type": "code",
            "source": "SELECT\r\n    Customer.CustomerID\r\n    , Customer.FirstName\r\n    , CustomerAddress.AddressID\r\nFROM SalesLT.Customer\r\nLEFT JOIN SalesLT.CustomerAddress\r\n    ON Customer.CustomerID = CustomerAddress.CustomerID\r\n-- In theory, another 10 joins or so could live here\r\nWHERE Customer.CustomerID IN (701, 29485)",
            "metadata": {},
            "outputs": [
                {
                    "output_type": "display_data",
                    "data": {
                        "text/html": "(2 rows affected)"
                    },
                    "metadata": {}
                },
                {
                    "output_type": "display_data",
                    "data": {
                        "text/html": "Total execution time: 00:00:00.0173401"
                    },
                    "metadata": {}
                },
                {
                    "output_type": "execute_result",
                    "execution_count": 6,
                    "data": {
                        "application/vnd.dataresource+json": {
                            "schema": {
                                "fields": [
                                    {
                                        "name": "CustomerID"
                                    },
                                    {
                                        "name": "FirstName"
                                    },
                                    {
                                        "name": "AddressID"
                                    }
                                ]
                            },
                            "data": [
                                {
                                    "0": "701",
                                    "1": "Linda",
                                    "2": "NULL"
                                },
                                {
                                    "0": "29485",
                                    "1": "Catherine",
                                    "2": "1086"
                                }
                            ]
                        },
                        "text/html": "<table><tr><th>CustomerID</th><th>FirstName</th><th>AddressID</th></tr><tr><td>701</td><td>Linda</td><td>NULL</td></tr><tr><td>29485</td><td>Catherine</td><td>1086</td></tr></table>"
                    },
                    "metadata": {}
                }
            ],
            "execution_count": 6
        },
        {
            "cell_type": "markdown",
            "source": "As soon as we add only one `RIGHT JOIN`, it \"reverses\" more or less the way rows are preserved - in the example below, now only the Addresses are kept, and not the Customers:",
            "metadata": {}
        },
        {
            "cell_type": "code",
            "source": "SELECT\r\n    Customer.CustomerID\r\n    , Customer.FirstName\r\n    , CustomerAddress.AddressID\r\nFROM SalesLT.Customer\r\nLEFT JOIN SalesLT.CustomerAddress\r\n    ON Customer.CustomerID = CustomerAddress.CustomerID\r\n-- In theory, another 10 joins or so could live here\r\nRIGHT JOIN SalesLT.Address\r\n    ON CustomerAddress.AddressID = Address.AddressID\r\nWHERE Customer.CustomerID IN (701, 29485)",
            "metadata": {},
            "outputs": [
                {
                    "output_type": "display_data",
                    "data": {
                        "text/html": "(1 row affected)"
                    },
                    "metadata": {}
                },
                {
                    "output_type": "display_data",
                    "data": {
                        "text/html": "Total execution time: 00:00:00.0176791"
                    },
                    "metadata": {}
                },
                {
                    "output_type": "execute_result",
                    "execution_count": 7,
                    "data": {
                        "application/vnd.dataresource+json": {
                            "schema": {
                                "fields": [
                                    {
                                        "name": "CustomerID"
                                    },
                                    {
                                        "name": "FirstName"
                                    },
                                    {
                                        "name": "AddressID"
                                    }
                                ]
                            },
                            "data": [
                                {
                                    "0": "29485",
                                    "1": "Catherine",
                                    "2": "1086"
                                }
                            ]
                        },
                        "text/html": "<table><tr><th>CustomerID</th><th>FirstName</th><th>AddressID</th></tr><tr><td>29485</td><td>Catherine</td><td>1086</td></tr></table>"
                    },
                    "metadata": {}
                }
            ],
            "execution_count": 7
        },
        {
            "cell_type": "markdown",
            "source": "In this example, this is pretty obvious, but still not very intuitive: usually, we read from top to bottom, from left to right. Therefor, try to avoid right joins. Every right join can be rewritten to a left join. The SQL statement below is identical to the one above, but way easier to read:",
            "metadata": {}
        },
        {
            "cell_type": "code",
            "source": "SELECT\r\n    Customer.CustomerID\r\n    , Customer.FirstName\r\n    , CustomerAddress.AddressID\r\nFROM SalesLT.Address\r\nLEFT JOIN SalesLT.CustomerAddress\r\n    ON Address.AddressID = CustomerAddress.CustomerID\r\n-- In theory, another 10 joins or so could live here\r\nLEFT JOIN SalesLT.Customer\r\n    ON Customer.CustomerID = CustomerAddress.AddressID\r\nWHERE Customer.CustomerID IN (701, 29485)",
            "metadata": {},
            "outputs": [
                {
                    "output_type": "display_data",
                    "data": {
                        "text/html": "(0 rows affected)"
                    },
                    "metadata": {}
                },
                {
                    "output_type": "display_data",
                    "data": {
                        "text/html": "Total execution time: 00:00:00.0234730"
                    },
                    "metadata": {}
                },
                {
                    "output_type": "execute_result",
                    "execution_count": 8,
                    "data": {
                        "application/vnd.dataresource+json": {
                            "schema": {
                                "fields": [
                                    {
                                        "name": "CustomerID"
                                    },
                                    {
                                        "name": "FirstName"
                                    },
                                    {
                                        "name": "AddressID"
                                    }
                                ]
                            },
                            "data": []
                        },
                        "text/html": "<table><tr><th>CustomerID</th><th>FirstName</th><th>AddressID</th></tr></table>"
                    },
                    "metadata": {}
                }
            ],
            "execution_count": 8
        }
    ]
}