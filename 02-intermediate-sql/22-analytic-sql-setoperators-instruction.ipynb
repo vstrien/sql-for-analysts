{
    "metadata": {
        "kernelspec": {
            "name": "SQL",
            "display_name": "SQL",
            "language": "sql"
        },
        "language_info": {
            "name": "sql",
            "version": ""
        }
    },
    "nbformat_minor": 2,
    "nbformat": 4,
    "cells": [
        {
            "cell_type": "markdown",
            "source": "# Set Operators\r\n\r\n## Kinds of set operators\r\n\r\nSet operators take two datasets with an identical form, and do something with them.\r\n\r\n* `UNION ALL` glues together two sets\r\n* `UNION` does the same, but only leaves unique rows\r\n* `INTERSECT` gives the rows that exist in both datasets\r\n* `EXCEPT` gives the rows that exist in the first dataset, but not in the second\r\n",
            "metadata": {}
        },
        {
            "cell_type": "markdown",
            "source": "## Preparation",
            "metadata": {}
        },
        {
            "cell_type": "code",
            "source": "IF OBJECT_ID('dbo.products1', 'U') IS NOT NULL\r\n   DROP TABLE dbo.products1;\r\n\r\nIF OBJECT_ID('dbo.products2', 'U') IS NOT NULL\r\n   DROP TABLE dbo.products2;\r\n\r\nSELECT *\r\nINTO products1\r\nFROM (VALUES \r\n    ('Audi', 'Car')\r\n    , ('Skoda', 'Car')\r\n) t (make, category);\r\n\r\nSELECT *\r\nINTO products2\r\nFROM (VALUES\r\n    ('Koga Myata', 'Bicycle')\r\n    , ('Audi', 'Car')\r\n) t (make, category);",
            "metadata": {},
            "outputs": [
                {
                    "output_type": "display_data",
                    "data": {
                        "text/html": "(2 rows affected)"
                    },
                    "metadata": {}
                },
                {
                    "output_type": "display_data",
                    "data": {
                        "text/html": "(2 rows affected)"
                    },
                    "metadata": {}
                },
                {
                    "output_type": "display_data",
                    "data": {
                        "text/html": "Total execution time: 00:00:00.3680911"
                    },
                    "metadata": {}
                }
            ],
            "execution_count": 1
        },
        {
            "cell_type": "markdown",
            "source": "## Sample table",
            "metadata": {}
        },
        {
            "cell_type": "code",
            "source": "SELECT * FROM dbo.products1;",
            "metadata": {},
            "outputs": [
                {
                    "output_type": "display_data",
                    "data": {
                        "text/html": "(2 rows affected)"
                    },
                    "metadata": {}
                },
                {
                    "output_type": "display_data",
                    "data": {
                        "text/html": "Total execution time: 00:00:00.1144507"
                    },
                    "metadata": {}
                },
                {
                    "output_type": "execute_result",
                    "metadata": {},
                    "execution_count": 1,
                    "data": {
                        "application/vnd.dataresource+json": {
                            "schema": {
                                "fields": [
                                    {
                                        "name": "make"
                                    },
                                    {
                                        "name": "category"
                                    }
                                ]
                            },
                            "data": [
                                {
                                    "0": "Audi",
                                    "1": "Car"
                                },
                                {
                                    "0": "Skoda",
                                    "1": "Car"
                                }
                            ]
                        },
                        "text/html": "<table><tr><th>make</th><th>category</th></tr><tr><td>Audi</td><td>Car</td></tr><tr><td>Skoda</td><td>Car</td></tr></table>"
                    }
                }
            ],
            "execution_count": 1
        },
        {
            "cell_type": "code",
            "source": "SELECT * FROM dbo.products2;",
            "metadata": {},
            "outputs": [
                {
                    "output_type": "display_data",
                    "data": {
                        "text/html": "(2 rows affected)"
                    },
                    "metadata": {}
                },
                {
                    "output_type": "display_data",
                    "data": {
                        "text/html": "Total execution time: 00:00:00.0219484"
                    },
                    "metadata": {}
                },
                {
                    "output_type": "execute_result",
                    "metadata": {},
                    "execution_count": 2,
                    "data": {
                        "application/vnd.dataresource+json": {
                            "schema": {
                                "fields": [
                                    {
                                        "name": "make"
                                    },
                                    {
                                        "name": "category"
                                    }
                                ]
                            },
                            "data": [
                                {
                                    "0": "Koga Myata",
                                    "1": "Bicycle"
                                },
                                {
                                    "0": "Audi",
                                    "1": "Car"
                                }
                            ]
                        },
                        "text/html": "<table><tr><th>make</th><th>category</th></tr><tr><td>Koga Myata</td><td>Bicycle</td></tr><tr><td>Audi</td><td>Car</td></tr></table>"
                    }
                }
            ],
            "execution_count": 2
        },
        {
            "cell_type": "markdown",
            "source": "## Union all",
            "metadata": {}
        },
        {
            "cell_type": "code",
            "source": "SELECT * FROM dbo.products1\r\nUNION ALL\r\nSELECT * FROM dbo.products2;",
            "metadata": {},
            "outputs": [
                {
                    "output_type": "display_data",
                    "data": {
                        "text/html": "(4 rows affected)"
                    },
                    "metadata": {}
                },
                {
                    "output_type": "display_data",
                    "data": {
                        "text/html": "Total execution time: 00:00:00.0167590"
                    },
                    "metadata": {}
                },
                {
                    "output_type": "execute_result",
                    "metadata": {},
                    "execution_count": 3,
                    "data": {
                        "application/vnd.dataresource+json": {
                            "schema": {
                                "fields": [
                                    {
                                        "name": "make"
                                    },
                                    {
                                        "name": "category"
                                    }
                                ]
                            },
                            "data": [
                                {
                                    "0": "Audi",
                                    "1": "Car"
                                },
                                {
                                    "0": "Skoda",
                                    "1": "Car"
                                },
                                {
                                    "0": "Koga Myata",
                                    "1": "Bicycle"
                                },
                                {
                                    "0": "Audi",
                                    "1": "Car"
                                }
                            ]
                        },
                        "text/html": "<table><tr><th>make</th><th>category</th></tr><tr><td>Audi</td><td>Car</td></tr><tr><td>Skoda</td><td>Car</td></tr><tr><td>Koga Myata</td><td>Bicycle</td></tr><tr><td>Audi</td><td>Car</td></tr></table>"
                    }
                }
            ],
            "execution_count": 3
        },
        {
            "cell_type": "markdown",
            "source": "## Union",
            "metadata": {}
        },
        {
            "cell_type": "code",
            "source": "SELECT * FROM dbo.products1\r\nUNION\r\nSELECT * FROM dbo.products2;",
            "metadata": {},
            "outputs": [
                {
                    "output_type": "display_data",
                    "data": {
                        "text/html": "(3 rows affected)"
                    },
                    "metadata": {}
                },
                {
                    "output_type": "display_data",
                    "data": {
                        "text/html": "Total execution time: 00:00:00.0346058"
                    },
                    "metadata": {}
                },
                {
                    "output_type": "execute_result",
                    "metadata": {},
                    "execution_count": 4,
                    "data": {
                        "application/vnd.dataresource+json": {
                            "schema": {
                                "fields": [
                                    {
                                        "name": "make"
                                    },
                                    {
                                        "name": "category"
                                    }
                                ]
                            },
                            "data": [
                                {
                                    "0": "Audi",
                                    "1": "Car"
                                },
                                {
                                    "0": "Koga Myata",
                                    "1": "Bicycle"
                                },
                                {
                                    "0": "Skoda",
                                    "1": "Car"
                                }
                            ]
                        },
                        "text/html": "<table><tr><th>make</th><th>category</th></tr><tr><td>Audi</td><td>Car</td></tr><tr><td>Koga Myata</td><td>Bicycle</td></tr><tr><td>Skoda</td><td>Car</td></tr></table>"
                    }
                }
            ],
            "execution_count": 4
        },
        {
            "cell_type": "markdown",
            "source": "## Intersect",
            "metadata": {}
        },
        {
            "cell_type": "code",
            "source": "SELECT * FROM dbo.products1\r\nINTERSECT\r\nSELECT * FROM dbo.products2;",
            "metadata": {},
            "outputs": [
                {
                    "output_type": "display_data",
                    "data": {
                        "text/html": "(1 row affected)"
                    },
                    "metadata": {}
                },
                {
                    "output_type": "display_data",
                    "data": {
                        "text/html": "Total execution time: 00:00:00.0176726"
                    },
                    "metadata": {}
                },
                {
                    "output_type": "execute_result",
                    "metadata": {},
                    "execution_count": 5,
                    "data": {
                        "application/vnd.dataresource+json": {
                            "schema": {
                                "fields": [
                                    {
                                        "name": "make"
                                    },
                                    {
                                        "name": "category"
                                    }
                                ]
                            },
                            "data": [
                                {
                                    "0": "Audi",
                                    "1": "Car"
                                }
                            ]
                        },
                        "text/html": "<table><tr><th>make</th><th>category</th></tr><tr><td>Audi</td><td>Car</td></tr></table>"
                    }
                }
            ],
            "execution_count": 5
        },
        {
            "cell_type": "markdown",
            "source": "## Except",
            "metadata": {}
        },
        {
            "cell_type": "code",
            "source": "SELECT * FROM dbo.products1\r\nEXCEPT\r\nSELECT * FROM dbo.products2;",
            "metadata": {},
            "outputs": [
                {
                    "output_type": "display_data",
                    "data": {
                        "text/html": "(1 row affected)"
                    },
                    "metadata": {}
                },
                {
                    "output_type": "display_data",
                    "data": {
                        "text/html": "Total execution time: 00:00:00.0880804"
                    },
                    "metadata": {}
                },
                {
                    "output_type": "execute_result",
                    "metadata": {},
                    "execution_count": 6,
                    "data": {
                        "application/vnd.dataresource+json": {
                            "schema": {
                                "fields": [
                                    {
                                        "name": "make"
                                    },
                                    {
                                        "name": "category"
                                    }
                                ]
                            },
                            "data": [
                                {
                                    "0": "Skoda",
                                    "1": "Car"
                                }
                            ]
                        },
                        "text/html": "<table><tr><th>make</th><th>category</th></tr><tr><td>Skoda</td><td>Car</td></tr></table>"
                    }
                }
            ],
            "execution_count": 6
        }
    ]
}