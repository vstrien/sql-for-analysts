{
    "metadata": {
        "kernelspec": {
            "name": "SQL",
            "display_name": "SQL",
            "language": "sql"
        },
        "language_info": {
            "name": "sql",
            "version": ""
        }
    },
    "nbformat_minor": 2,
    "nbformat": 4,
    "cells": [
        {
            "cell_type": "markdown",
            "source": "# Set Operators\r\n\r\nDuring this lab we will work with the **AdventureWorksDW2017** database\r\n",
            "metadata": {}
        },
        {
            "cell_type": "markdown",
            "source": "1. Select the cities where both customers and employees live.\r\n   * For the employee addresses, join `HumanResources.Employee` through `Person.BusinessEntityAddress` to `Person.Address`\r\n   * For the customer addresses, join `Sales.Customer` through `Person.BusinessEntityAddress` to `Person.Address` \r\n     * column `PersonID` in `Customer` corresponds to column `BusinessEntityID` in `BusinessEntityAddress`",
            "metadata": {}
        },
        {
            "cell_type": "code",
            "source": "",
            "metadata": {},
            "outputs": [],
            "execution_count": 0
        },
        {
            "cell_type": "markdown",
            "source": "2. Select the employees who have ever bought anything at AdventureWorks",
            "metadata": {}
        },
        {
            "cell_type": "code",
            "source": "",
            "metadata": {},
            "outputs": [
                {
                    "output_type": "display_data",
                    "data": {
                        "text/html": "(0 rows affected)"
                    },
                    "metadata": {}
                },
                {
                    "output_type": "display_data",
                    "data": {
                        "text/html": "Total execution time: 00:00:00.0075281"
                    },
                    "metadata": {}
                },
                {
                    "output_type": "execute_result",
                    "execution_count": 3,
                    "data": {
                        "application/vnd.dataresource+json": {
                            "schema": {
                                "fields": [
                                    {
                                        "name": "BusinessEntityID"
                                    }
                                ]
                            },
                            "data": []
                        },
                        "text/html": "<table><tr><th>BusinessEntityID</th></tr></table>"
                    },
                    "metadata": {}
                }
            ],
            "execution_count": 3
        }
    ]
}