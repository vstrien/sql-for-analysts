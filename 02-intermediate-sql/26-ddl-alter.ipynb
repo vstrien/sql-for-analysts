{
    "metadata": {
        "kernelspec": {
            "name": "SQL",
            "display_name": "SQL",
            "language": "sql"
        },
        "language_info": {
            "name": "sql",
            "version": ""
        }
    },
    "nbformat_minor": 2,
    "nbformat": 4,
    "cells": [
        {
            "cell_type": "markdown",
            "source": "# Altering tables",
            "metadata": {}
        },
        {
            "cell_type": "markdown",
            "source": "1. Add a new column `TotalListPriceForColor` to the table `Production.Product`",
            "metadata": {}
        },
        {
            "cell_type": "code",
            "source": "",
            "metadata": {},
            "outputs": [],
            "execution_count": 0
        },
        {
            "cell_type": "markdown",
            "source": "2. Update this column with data from the `Production.ColorValuation` table. Do this in the following steps:\r\n   * First, create a SELECT statement that joins `Production.Product` to `Production.ColorValuation`\r\n   * Then, re-write the SELECT statement as an `UPDATE .. FROM` (see yesterday's module about INSERT, UPDATE and DELETE)",
            "metadata": {}
        },
        {
            "cell_type": "code",
            "source": "-- Create your SELECT statement here",
            "metadata": {},
            "outputs": [],
            "execution_count": 0
        },
        {
            "cell_type": "code",
            "source": "-- re-write your SELECT statement as an UPDATE",
            "metadata": {},
            "outputs": [],
            "execution_count": 0
        },
        {
            "cell_type": "code",
            "source": "-- Check the results",
            "metadata": {},
            "outputs": [],
            "execution_count": 0
        },
        {
            "cell_type": "markdown",
            "source": "3. Delete the column `TotalPrice` from `Production.ColorValuation`",
            "metadata": {}
        },
        {
            "cell_type": "code",
            "source": "",
            "metadata": {},
            "outputs": [],
            "execution_count": 0
        },
        {
            "cell_type": "markdown",
            "source": "4. Add a column `TotalSales` to the table `Production.ProductCategory`",
            "metadata": {}
        },
        {
            "cell_type": "code",
            "source": "",
            "metadata": {},
            "outputs": [],
            "execution_count": 0
        },
        {
            "cell_type": "markdown",
            "source": "5. Set the contents of the `TotalSales` so that no row is empty (and preferably with correct values)",
            "metadata": {}
        },
        {
            "cell_type": "code",
            "source": "",
            "metadata": {},
            "outputs": [],
            "execution_count": 0
        },
        {
            "cell_type": "markdown",
            "source": "6. Alter the column `TotalSales` and set it non-nullable",
            "metadata": {}
        },
        {
            "cell_type": "code",
            "source": "",
            "metadata": {},
            "outputs": [],
            "execution_count": 0
        }
    ]
}