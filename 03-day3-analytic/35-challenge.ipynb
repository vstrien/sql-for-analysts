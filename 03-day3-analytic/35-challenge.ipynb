{
    "metadata": {
        "kernelspec": {
            "name": "SQL",
            "display_name": "SQL",
            "language": "sql"
        },
        "language_info": {
            "name": "sql",
            "version": ""
        }
    },
    "nbformat_minor": 2,
    "nbformat": 4,
    "cells": [
        {
            "cell_type": "markdown",
            "source": "# Challenge\r\n",
            "metadata": {}
        },
        {
            "cell_type": "markdown",
            "source": "1. Create a table \"SalesPerCustomerPerOrderyear\" with the following columns:\r\n   * ID (automatically incrementing)\r\n   * First name (cannot contain NULL values)\r\n   * Last name (cannot contain NULL values)\r\n   * Order year (cannot contain NULL values)\r\n   * TotalSales (may contain NULL values)\r\n\r\nYou can leave the table empty for now.",
            "metadata": {}
        },
        {
            "cell_type": "code",
            "source": "",
            "metadata": {},
            "outputs": [],
            "execution_count": 0
        },
        {
            "cell_type": "markdown",
            "source": "2. Select the sales per customer per order year. \r\n   * Be sure to include also years where orders have been made, but not by this customer.\r\n   * For example, A. Leonetti hasn't made any sales in 2012. Still, there should be a row for this customer in 2012, with 0 for the sales in that year\r\n   * You can do this either by using a CTE, or a subquery inside your SELECT list",
            "metadata": {}
        },
        {
            "cell_type": "code",
            "source": "",
            "metadata": {},
            "outputs": [],
            "execution_count": 0
        },
        {
            "cell_type": "markdown",
            "source": "3. Extend/rewrite the previous query:\r\n   * First, use windowing version of the `SUM` aggregate to get the same results *without using `GROUP BY`*\r\n   * You will get some duplicates initially, get rid of them using `DISTINCT`\r\n   * Then, check if the results of those two queries are the same using `EXCEPT`",
            "metadata": {}
        },
        {
            "cell_type": "code",
            "source": "",
            "metadata": {},
            "outputs": [],
            "execution_count": 0
        },
        {
            "cell_type": "code",
            "source": "",
            "metadata": {},
            "outputs": [],
            "execution_count": 0
        },
        {
            "cell_type": "markdown",
            "source": "4. Extend the previous query once more:\r\n   * Select the sales per customer per order year **per sales person**\r\n   * Include the total sales for that customer (regardless the sales person)\r\n   * Give the sales for one sales person as a percentage of total sales in that year for the customer\r\n   * Only return orders with a sales person attached\r\n   \r\nFor example, Aaron Con would yield the following results for 2011 and 2012:\r\n\r\n| OrderYear | Customer  | SalesPerson     | TotalSales | TotalSalesAllSalesPersons | PercentageForThisSalesPerson |\r\n|-----------|-----------|-----------------|------------|---------------------------|------------------------------|\r\n| 2011      | Aaron Con | Michael  Blythe | 11043.5801 | 11043.5801                | 1.00                         |\r\n| 2012      | Aaron Con | Jillian  Carson | 1586.9642  | 28435.0089                | 0.0558                       |\r\n| 2012      | Aaron Con | Michael  Blythe | 22055.7977 | 28435.0089                | 0.7756                       |\r\n| 2012      | Aaron Con | Stephen  Jiang  | 4792.247   | 28435.0089                | 0.1685                       |",
            "metadata": {}
        },
        {
            "cell_type": "code",
            "source": "",
            "metadata": {},
            "outputs": [],
            "execution_count": 0
        },
        {
            "cell_type": "code",
            "source": "",
            "metadata": {},
            "outputs": [],
            "execution_count": 0
        },
        {
            "cell_type": "markdown",
            "source": "5. Alter the table of exercise 1 so that it can store the results from query #4",
            "metadata": {}
        },
        {
            "cell_type": "code",
            "source": "",
            "metadata": {},
            "outputs": [],
            "execution_count": 0
        },
        {
            "cell_type": "markdown",
            "source": "6. Store the results of exercise 4 inside the table using `INSERT .. SELECT`",
            "metadata": {}
        }
    ]
}