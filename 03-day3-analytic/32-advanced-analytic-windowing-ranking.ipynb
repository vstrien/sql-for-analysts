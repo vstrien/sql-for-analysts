{
    "metadata": {
        "kernelspec": {
            "name": "SQL",
            "display_name": "SQL",
            "language": "sql"
        },
        "language_info": {
            "name": "sql",
            "version": ""
        }
    },
    "nbformat_minor": 2,
    "nbformat": 4,
    "cells": [
        {
            "cell_type": "markdown",
            "source": "# Windowing & Ranking\r\n\r\nUse `AdventureWorks2017` as a database inside this notebook.\r\n",
            "metadata": {}
        },
        {
            "cell_type": "markdown",
            "source": "1. Select all orders in 2013, with the following information:\r\n   * SalesOrderNumber\r\n   * TotalDue\r\n   * Difference with TotalDue of one item \"cheaper\"\r\n     * In case of ties, this difference will be 0.\r\n     * To keep your ordering correct order not only on TotalDue, but also on the ID column of the table you're using",
            "metadata": {}
        },
        {
            "cell_type": "code",
            "source": "",
            "metadata": {},
            "outputs": [],
            "execution_count": 0
        },
        {
            "cell_type": "markdown",
            "source": "2. Select all product sales, with the following information in each row:\r\n   * Unit price * qty\r\n   * Product name\r\n   * Sales date\r\n   * Percentage of total sales in year\r\n   * Percentage of total sales in category",
            "metadata": {}
        },
        {
            "cell_type": "code",
            "source": "",
            "metadata": {},
            "outputs": [],
            "execution_count": 14
        },
        {
            "cell_type": "markdown",
            "source": "3. Select the top 5 performing sales person per category per year. Display the sales, category name, person first- and lastname, and rank. To tackle this:\r\n   * First create a CTE to select the total sales per person, category and year\r\n   * Then use windowing functions to rank (hint) the sales persons\r\n   * Think up a way to filter only ranks 1-5",
            "metadata": {}
        },
        {
            "cell_type": "code",
            "source": "",
            "metadata": {},
            "outputs": [],
            "execution_count": 12
        },
        {
            "cell_type": "markdown",
            "source": "4. Select the top 10 orders placed per year, based on `TotalDue`\r\n",
            "metadata": {}
        },
        {
            "cell_type": "code",
            "source": "",
            "metadata": {},
            "outputs": [],
            "execution_count": 0
        },
        {
            "cell_type": "markdown",
            "source": "5. Select the 10 orders with the **lowest** `TotalDue` per year\r\n   * Select OrderNumber, Rank, TotalDue\r\n   * Include four kinds of rankings, with the following behavior when ties occur:\r\n     * Keep the same ranking number, then skip the following ranks (2011 has two #4's, after that a #6)\r\n     * Just keep counting (2011 has one of each #4, #5, #6)\r\n     * Keep the same ranking number, then count on (2011 has two #4's, after that a #5). This means you'll get more than 10 results per year",
            "metadata": {}
        },
        {
            "cell_type": "code",
            "source": "",
            "metadata": {},
            "outputs": [],
            "execution_count": 4
        }
    ]
}