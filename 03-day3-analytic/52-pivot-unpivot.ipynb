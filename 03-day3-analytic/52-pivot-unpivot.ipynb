{
    "metadata": {
        "kernelspec": {
            "name": "SQL",
            "display_name": "SQL",
            "language": "sql"
        },
        "language_info": {
            "name": "sql",
            "version": ""
        }
    },
    "nbformat_minor": 2,
    "nbformat": 4,
    "cells": [
        {
            "cell_type": "markdown",
            "source": [
                "# PIVOT and UNPIVOT\r\n",
                "\r\n",
                "* pivot + voorbeeld\r\n",
                "* unpivot + voorbeeld\r\n",
                "* Challenge: unpivot meerdere kolommen (APPLY voorbeeld aanhalen, links verwijzen)\r\n",
                ""
            ],
            "metadata": {
                "azdata_cell_guid": "24a2e3f2-319f-42d8-8a5c-b460948a0a23"
            }
        },
        {
            "cell_type": "markdown",
            "source": [
                "## PIVOT\r\n",
                "\r\n",
                "With `PIVOT`, you can turn rows into columns. \r\n",
                "\r\n",
                "A small example is provided on [https://docs.microsoft.com/en-us/sql/t-sql/queries/from-using-pivot-and-unpivot?view=sql-server-2017](https://docs.microsoft.com/en-us/sql/t-sql/queries/from-using-pivot-and-unpivot?view=sql-server-2017)\r\n",
                "\r\n",
                "1. Use `PIVOT` to turn rows into columns\r\n",
                "\r\n",
                "* Find the minimum ModifiedDate for every product category\r\n",
                "* The product categories (Bikes, Components, Clothing, Accessories) should be displayed as columns\r\n",
                "* The result should contain only one row\r\n",
                "* Use `PIVOT`"
            ],
            "metadata": {
                "azdata_cell_guid": "4c4df76f-e9f1-400a-bf1f-bf2672aec675"
            }
        },
        {
            "cell_type": "code",
            "source": [
                ""
            ],
            "metadata": {
                "azdata_cell_guid": "cb1f87b5-6aca-47bd-b654-17895b2c0a56"
            },
            "outputs": [],
            "execution_count": 0
        },
        {
            "cell_type": "markdown",
            "source": [
                "2. Try to achieve the same, but this time without `PIVOT`\r\n",
                ""
            ],
            "metadata": {
                "azdata_cell_guid": "772d9b08-1ce2-4a36-b2b6-d2a7dd8b364d"
            }
        },
        {
            "cell_type": "code",
            "source": [
                ""
            ],
            "metadata": {
                "azdata_cell_guid": "ae0a7655-3ed9-4c20-86d1-09450c7d1a63"
            },
            "outputs": [],
            "execution_count": 0
        },
        {
            "cell_type": "markdown",
            "source": [
                "\r\n",
                "3. Now try to extend the query *with* `PIVOT`: display the total sales per year per product category\r\n",
                "   * Columns: \r\n",
                "     * OrderYear, \r\n",
                "     * Bikes\r\n",
                "     * Components\r\n",
                "     * Clothing\r\n",
                "     * Accessories\r\n",
                "   * Use `SalesOrderHeader.TotalDue` for the total sales, and `SalesOrderHeader.OrderDate` to get the order year.\r\n",
                "\r\n",
                "Expected result set:\r\n",
                "\r\n",
                "| OrderYear | Bikes          | Components     | Clothing       | Accessories   |\r\n",
                "|-----------|----------------|----------------|----------------|---------------|\r\n",
                "| 2013      | 506859342,9843 | 459407387,8208 | 248559015,995  | 128142537,661 |\r\n",
                "| 2014      | 177988977,456  | 137562176,3122 | 72965056,5847  | 51924553,043  |\r\n",
                "| 2011      | 94334765,9073  | 36547927,9377  | 25064911,4966  | 14836129,6141 |\r\n",
                "| 2012      | 410662322,0103 | 297051818,4436 | 195879878,3633 | 69183322,4115 |\r\n",
                "\r\n",
                "You need the following JOIN to get everything together:\r\n",
                "\r\n",
                "```sql\r\n",
                "FROM [Production].[ProductCategory]\r\n",
                "INNER JOIN Production.ProductSubcategory\r\n",
                "    ON ProductCategory.ProductCategoryID = ProductSubcategory.ProductCategoryID\r\n",
                "INNER JOIN Production.Product\r\n",
                "    ON ProductSubcategory.ProductSubcategoryID = Product.ProductSubcategoryID\r\n",
                "INNER JOIN Sales.SalesOrderDetail\r\n",
                "    ON SalesOrderDetail.ProductID = Product.ProductID\r\n",
                "INNER JOIN Sales.SalesOrderHeader\r\n",
                "    ON SalesOrderDetail.SalesOrderID = SalesOrderHeader.SalesOrderID\r\n",
                "```\r\n",
                ""
            ],
            "metadata": {
                "azdata_cell_guid": "038b1d53-edc9-47b1-93d1-b4708751c9f0"
            }
        },
        {
            "cell_type": "markdown",
            "source": [
                "## UNPIVOT\r\n",
                "\r\n",
                "`UNPIVOT` is the almost-opposite of `PIVOT`. Opposite, because it turns columns into rows. Almost, because `PIVOT` does aggregations, and `UNPIVOT` cannot undo them.\r\n",
                "\r\n",
                "Below is a small example from [https://docs.microsoft.com/en-us/sql/t-sql/queries/from-using-pivot-and-unpivot?view=sql-server-2017#complex-pivot-example](https://docs.microsoft.com/en-us/sql/t-sql/queries/from-using-pivot-and-unpivot?view=sql-server-2017#complex-pivot-example)\r\n",
                "\r\n",
                "```\r\n",
                "-- Create the table and insert values as portrayed in the previous example.  \r\n",
                "CREATE TABLE pvt (VendorID int, Emp1 int, Emp2 int,  \r\n",
                "    Emp3 int, Emp4 int, Emp5 int);  \r\n",
                "GO  \r\n",
                "INSERT INTO pvt VALUES (1,4,3,5,4,4);  \r\n",
                "INSERT INTO pvt VALUES (2,4,1,5,5,5);  \r\n",
                "INSERT INTO pvt VALUES (3,4,3,5,4,4);  \r\n",
                "INSERT INTO pvt VALUES (4,4,2,5,5,4);  \r\n",
                "INSERT INTO pvt VALUES (5,5,1,5,5,5);  \r\n",
                "GO  \r\n",
                "-- Unpivot the table.  \r\n",
                "SELECT VendorID, Employee, Orders  \r\n",
                "FROM   \r\n",
                "   (SELECT VendorID, Emp1, Emp2, Emp3, Emp4, Emp5  \r\n",
                "   FROM pvt) p  \r\n",
                "UNPIVOT  \r\n",
                "   (Orders FOR Employee IN   \r\n",
                "      (Emp1, Emp2, Emp3, Emp4, Emp5)  \r\n",
                ")AS unpvt;  \r\n",
                "GO\r\n",
                "```\r\n",
                "\r\n",
                "4. Examine the example by executing it and querying intermediate results: \r\n",
                "\r\n",
                "* Notice the structure & contents of the table `pvt`\r\n",
                "* Execute the `UNPIVOT`\r\n",
                "* Can you get the same results without `UNPIVOT`?"
            ],
            "metadata": {
                "azdata_cell_guid": "975027b2-be9c-42b6-9880-d023170667f1"
            }
        },
        {
            "cell_type": "markdown",
            "source": [
                "## UNPIVOTing continued\r\n",
                "\r\n",
                "5. Create a table as follows\r\n",
                "\r\n",
                "name  |  age  |  gender\r\n",
                "------|-------|---------\r\n",
                "John  |   20  |    M\r\n",
                "Jill  |   21  |    F\r\n",
                "\r\n",
                "* Try to `UNPIVOT` the  table so that you get the following results.\r\n",
                "* Try to get around some issues with `UNPIVOT`\r\n",
                "\r\n",
                "name | column | value\r\n",
                "-----|--------|-------\r\n",
                "John |  age   |   20\r\n",
                "John | gender |   M\r\n",
                "Jill |  age   |   21\r\n",
                "Jill | gender |   F\r\n",
                "\r\n",
                "6. Use Google to see if there's a third way to \"UNPIVOT\" a result set without using `UNPIVOT`, but using `CROSS APPLY`."
            ],
            "metadata": {
                "azdata_cell_guid": "12e52c3b-e620-4b00-98fb-a32876fb1b0a"
            }
        }
    ]
}