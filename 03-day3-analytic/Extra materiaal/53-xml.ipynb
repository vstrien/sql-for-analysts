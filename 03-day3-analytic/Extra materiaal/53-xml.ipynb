{
    "metadata": {
        "kernelspec": {
            "name": "SQL",
            "display_name": "SQL",
            "language": "sql"
        },
        "language_info": {
            "name": "sql",
            "version": ""
        }
    },
    "nbformat_minor": 2,
    "nbformat": 4,
    "cells": [
        {
            "cell_type": "markdown",
            "source": [
                "# XML data\r\n",
                "\r\n",
                "* XML introductie\r\n",
                "  * Structuur\r\n",
                "  * Schema's\r\n",
                "* XML data laden met schema\r\n",
                "* XML queries\r\n",
                "* XML output queries\r\n",
                ""
            ],
            "metadata": {
                "azdata_cell_guid": "8c257308-6ed5-41a3-95c8-cdca160fdac3"
            }
        },
        {
            "cell_type": "markdown",
            "source": [
                "## About XML\r\n",
                "\r\n",
                "The eXtensible Markup Language (XML) is a language to model data in text-files. \r\n",
                "\r\n",
                "Not only is it extensible, it's also pretty extensive:\r\n",
                "\r\n",
                "* Although everything is stored inside text-files, XML knows about:\r\n",
                "  * identifiers (elements can refer to other elements)\r\n",
                "  * datatypes (and you can create your own data structures if you want)\r\n",
                "  * schema's (what element is allowed at which place in the file)\r\n",
                "\r\n",
                "For an almost-exhaustive list of properties about XML, have a look at [The XML Wikipedia page](https://en.wikipedia.org/wiki/XML)\r\n",
                "\r\n",
                "For a basic example, see this example from the Dutch Wikipedia page:\r\n",
                "\r\n",
                "```xml\r\n",
                "<?xml version=\"1.0\" encoding=\"utf-8\"?>\r\n",
                "<playlist name=\"mylist\" xml:lang=\"en\">\r\n",
                "    <song>\r\n",
                "        <title>Little Fluffy Clouds</title>\r\n",
                "        <artist>the Orb</artist>\r\n",
                "    </song>\r\n",
                "    <song>\r\n",
                "        <title>Goodbye mother Earth</title>\r\n",
                "        <artist>Underworld</artist>\r\n",
                "    </song>\r\n",
                "    <song />\r\n",
                "</playlist>\r\n",
                "```\r\n",
                "\r\n",
                "Some terminology and rules:\r\n",
                "\r\n",
                "* An XML document starts with `<?xml .... ?>`\r\n",
                "* Things between angle brackets (like `<song>`) are called *elements*\r\n",
                "* Each element has an opening tag (`<song>`) and a closing tag (`</song>`)\r\n",
                "* Empty elements can also have a *self-closing* tag. `<song />` is a *self-closing* tag, aka. an *empty-element tag*\r\n",
                "* An element can have zero or more child-elements (`<song>` has two child-elements)\r\n",
                "* An element can have zero or more attributes (`<playlist>` has two *attributes*: `name` and `xml:lang`)\r\n",
                "* Elements can have direct text (like `Little Fluffy Clouds`)"
            ],
            "metadata": {
                "azdata_cell_guid": "7cc5f066-59d7-4e56-941b-ee4ed4cd3caf"
            }
        },
        {
            "cell_type": "code",
            "source": [
                ""
            ],
            "metadata": {
                "azdata_cell_guid": "4ed9b753-e35a-4e0a-9057-a1c759fcd930"
            },
            "outputs": [],
            "execution_count": 0
        },
        {
            "cell_type": "markdown",
            "source": [
                ""
            ],
            "metadata": {
                "azdata_cell_guid": "7b4af84c-4677-418d-890d-9319b0334044"
            }
        },
        {
            "cell_type": "markdown",
            "source": [
                "## XML data inside SQL Server\r\n",
                "\r\n",
                "Inside the `Person.Person` table, there is a `Demographics` column containing XML data.\r\n",
                "\r\n",
                "1. Look at the details of *Scott M. Rogers*, and study the contents of the `Demographics` column. Click on the value to see the entire XML document\r\n",
                "2. Look at the details of *Ken J. Sánchez* as well. Compare the XML documents, and notice some differences"
            ],
            "metadata": {
                "azdata_cell_guid": "962f248e-9a2a-4a62-88b0-5d081ae1e2b9"
            }
        },
        {
            "cell_type": "code",
            "source": [
                ""
            ],
            "metadata": {
                "azdata_cell_guid": "f8d92d44-b338-4974-af3d-23294c4491bd"
            },
            "outputs": [],
            "execution_count": 0
        },
        {
            "cell_type": "code",
            "source": [
                ""
            ],
            "metadata": {
                "azdata_cell_guid": "3629e184-bb76-4add-ab96-1f2105c1b06b"
            },
            "outputs": [],
            "execution_count": 0
        },
        {
            "cell_type": "markdown",
            "source": [
                "## Querying XML data in SQL Server\r\n",
                "\r\n",
                "Within T-SQL, you can query data inside an XML column using several built-in functions:\r\n",
                "\r\n",
                "* `query()` queries XML (for example, it retrieves a certain element and everything inside)\r\n",
                "* `value()` queries a value (for example, the contents of an attribute) and enables you to put it in a SQL datatype\r\n",
                "* `exist()` checks for the existence of an XML element\r\n",
                "* `modify()` lets you change XML documents\r\n",
                "* `nodes()` turns XML into multiple rows, thus enabling standard database-operations\r\n",
                "\r\n",
                "3. Try the following example to test whether an XML document contains the element `NumberCarsOwned`\r\n",
                "   * It's a simplified example from `Person.Person.Demographics` (to be more precise: the *namespace* has been removed)\r\n",
                "\r\n",
                "```sql\r\n",
                "DECLARE @tableVar TABLE (Demographics XML, FirstName nvarchar(50), MiddleName nvarchar(50), LastName nvarchar(50))\r\n",
                "\r\n",
                "-- Inserts two rows almost identical to the Person.Person rows with the same name\r\n",
                "INSERT INTO @tableVar (Demographics, FirstName, MiddleName, LastName)\r\n",
                "VALUES (\r\n",
                "'<IndividualSurvey><TotalPurchaseYTD>1647</TotalPurchaseYTD><DateFirstPurchase>2002-04-18Z</DateFirstPurchase><BirthDate>1968-05-15Z</BirthDate><MaritalStatus>M</MaritalStatus><YearlyIncome>50001-75000</YearlyIncome><Gender>M</Gender><TotalChildren>2</TotalChildren><NumberChildrenAtHome>2</NumberChildrenAtHome><Education>Bachelors</Education><Occupation>Professional</Occupation><HomeOwnerFlag>1</HomeOwnerFlag><NumberCarsOwned>1</NumberCarsOwned><CommuteDistance>2-5 Miles</CommuteDistance></IndividualSurvey>', 'Scott', 'M.', 'Rodgers'),\r\n",
                "('<IndividualSurvey><TotalPurchaseYTD>0</TotalPurchaseYTD></IndividualSurvey>', 'Ken', 'J', 'Sánchez');\r\n",
                "\r\n",
                "SELECT \r\n",
                "    FirstName\r\n",
                "    , MiddleName\r\n",
                "    , LastName\r\n",
                "    , Demographics\r\n",
                "    , Demographics.exist('/IndividualSurvey/NumberCarsOwned') AS ElementExists\r\n",
                "    , Demographics.query('/IndividualSurvey/DateFirstPurchase') AS valueOfDateFirstPurchase\r\n",
                "    , Demographics.value('/idvs:IndividualSurvey[1]/idvs:DateFirstPurchase[1]', 'varchar(30)') AS ContentsOfDateFirstPurchase\r\n",
                "FROM @tableVar;\r\n",
                "```\r\n",
                "\r\n",
                "**The language used within the elements is called *XQuery***"
            ],
            "metadata": {
                "azdata_cell_guid": "02b7ed56-c4b6-4623-bacc-7152e8f2f533"
            }
        },
        {
            "cell_type": "code",
            "source": [
                ""
            ],
            "metadata": {
                "azdata_cell_guid": "09f8e152-ebb3-492e-bc9c-761a2862b9d3"
            },
            "outputs": [],
            "execution_count": 31
        },
        {
            "cell_type": "markdown",
            "source": [
                "## Querying data with namespaces\r\n",
                "\r\n",
                "If you want to query data inside the `AdventureWorks2017` database, you'll need one other element: the *namespace* of XML.\r\n",
                "\r\n",
                "Simply stated, the first query doesn't work, while the second will work:\r\n",
                "\r\n",
                "```sql\r\n",
                "SELECT \r\n",
                "    FirstName\r\n",
                "    , MiddleName\r\n",
                "    , LastName\r\n",
                "    , Demographics\r\n",
                "    , Demographics.exist('/IndividualSurvey/NumberCarsOwned') AS ElementExists\r\n",
                "    , Demographics.query('/IndividualSurvey/DateFirstPurchase') AS valueOfDateFirstPurchase\r\n",
                "    , Demographics.value('/idvs:IndividualSurvey[1]/idvs:DateFirstPurchase[1]', 'varchar(30)') AS ContentsOfDateFirstPurchase\r\n",
                "FROM Person.Person\r\n",
                "  WHERE BusinessEntityID IN (1, 1703)\r\n",
                ";\r\n",
                "\r\n",
                "WITH XMLNAMESPACES('http://schemas.microsoft.com/sqlserver/2004/07/adventure-works/IndividualSurvey' as idvs)\r\n",
                "SELECT \r\n",
                "    FirstName\r\n",
                "    , MiddleName\r\n",
                "    , LastName\r\n",
                "    , Demographics\r\n",
                "    , Demographics.exist('/idvs:IndividualSurvey/idvs:NumberCarsOwned') AS ElementExists\r\n",
                "    , Demographics.query('/idvs:IndividualSurvey/idvs:DateFirstPurchase') AS valueOfDateFirstPurchase\r\n",
                "    , Demographics.value('/idvs:IndividualSurvey[1]/idvs:DateFirstPurchase[1]', 'varchar(30)') AS ContentsOfDateFirstPurchase\r\n",
                "FROM AdventureWorks2017.Person.Person\r\n",
                "  WHERE BusinessEntityID IN (1, 1703)\r\n",
                ";\r\n",
                "```\r\n",
                "\r\n",
                "4. Try both queries, and verify the first doesn't work while the second does."
            ],
            "metadata": {
                "azdata_cell_guid": "d65882d6-6413-42db-8947-ec445def656a"
            }
        },
        {
            "cell_type": "code",
            "source": [
                ""
            ],
            "metadata": {
                "azdata_cell_guid": "c088885a-2035-4e77-b42e-eee2f57bf970"
            },
            "outputs": [],
            "execution_count": 29
        },
        {
            "cell_type": "code",
            "source": [
                ""
            ],
            "metadata": {
                "azdata_cell_guid": "1aba2779-a5be-48dd-98a6-d530c0ba6a0e"
            },
            "outputs": [],
            "execution_count": 28
        },
        {
            "cell_type": "markdown",
            "source": [
                "> The reason you need `XMLNAMESPACES` here, is that the `IndividualSurvey` doesn't stand on its own: it is contained inside a *namespace*.\r\n",
                "> \r\n",
                "> Let's keep this simple, and compare the namespace with a *schema* in SQL Server. The `Employee` table doesn't exist on its own as well, but only within the `HumanResources` schema. In order to query the `Employee` table, you need to define in which schema the table is.\r\n",
                ">\r\n",
                "> Because the *namespace* is a pretty long URI, in XML these are usually aliased - in documents as well as queries."
            ],
            "metadata": {
                "azdata_cell_guid": "9c9c2f7d-a63c-478b-afaa-fcef5e9361a8"
            }
        },
        {
            "cell_type": "markdown",
            "source": [
                "The `Production.ProductModel` also contains some XML-typed instructions within the `Instructions` column.\r\n",
                "\r\n",
                "5. Examine the instructions for models `HL Touring Frame` and `LL Touring Frame`\r\n",
                "6. Use `.exist` to check whether the `Location` tag exists.\r\n",
                "7. Query the first `Location` for both rows. Study the XML for constructing your query.\r\n",
                "8. Query the `specs` of the third `step` of the second `Location`"
            ],
            "metadata": {
                "azdata_cell_guid": "866a5633-121f-4f60-8dc1-4af02053a1b4"
            }
        },
        {
            "cell_type": "markdown",
            "source": [
                "## Output data as XML: the easy way\r\n",
                "\r\n",
                "If you need to *output* XML data, that is pretty easy as well in SQL Server.\r\n",
                "\r\n",
                "9. Write a simple SELECT statement\r\n",
                "   * Select from the table `Person.Person`\r\n",
                "   * Select the columns `FirstName`, `MiddleName`, `LastName`\r\n",
                "   * Select only 10 rows in order to keep your GUI responsive (SQL Server won't bat an eye for big XML documents, but Azure Data Studio / SSMS might)\r\n",
                "   * Verify that it works\r\n",
                "10. Add `FOR XML AUTO` at the end of the query and examine the results\r\n",
                ""
            ],
            "metadata": {
                "azdata_cell_guid": "4e01bdf8-45c1-45b2-8687-d8617e9e5d09"
            }
        },
        {
            "cell_type": "code",
            "source": [
                ""
            ],
            "metadata": {
                "azdata_cell_guid": "295d8648-ebff-4a6b-a1e6-637c6b3df5d2"
            },
            "outputs": [],
            "execution_count": 33
        },
        {
            "cell_type": "markdown",
            "source": [
                "11. Now, alias the table to `Person` and examine the results again.\r\n",
                "    * Notice the differences with the earlier query\r\n",
                "12. Add the directive `, ELEMENTS` after `AUTO` (so it looks like `FOR XML AUTO, ELEMENTS`)\r\n",
                "    * Notice the difference with earlier queries\r\n",
                ""
            ],
            "metadata": {
                "azdata_cell_guid": "17b2f3fc-64a1-4bc1-a62c-3a84ffd73674"
            }
        },
        {
            "cell_type": "markdown",
            "source": [
                "## Output data as XML: the extended way\r\n",
                "\r\n",
                "`FOR XML AUTO` always returns the columns nested within their originating table expressions.\r\n",
                "If you need to be somewhat more explicit in the way the XML is formed, you could use `FOR XML PATH`\r\n",
                "\r\n",
                "Below is an example:\r\n",
                "\r\n",
                "```sql\r\n",
                "SELECT TOP 10 FirstName AS \"Name/FirstName\", MiddleName AS \"Name/MiddleName\", LastName \r\n",
                "FROM AdventureWorks2017.Person.Person AS Person\r\n",
                "FOR XML PATH\r\n",
                "```\r\n",
                "\r\n",
                "13. (Bonus) Write a query\r\n",
                "    * It should `INNER JOIN` the following tables:\r\n",
                "      * `HumanResources.Employee`\r\n",
                "        * Select column `LoginID`\r\n",
                "      * `Person.Person`\r\n",
                "        * Select columns `FirstName`, `MiddleName`, `LastName` and `BusinessEntityID` \r\n",
                "    * For `BusinessEntityID = 1`, the output should look like this:\r\n",
                "\r\n",
                "```xml\r\n",
                "<row EmpID=\"1\">\r\n",
                "\t<PersonName>\r\n",
                "\t\t<First>\r\n",
                "\t\t\tKen\r\n",
                "\t\t</First>\r\n",
                "\t\t<Middle>\r\n",
                "\t\t\tJ\r\n",
                "\t\t</Middle>\r\n",
                "\t\t<Last>\r\n",
                "\t\t\tSánchez\r\n",
                "\t\t</Last>\r\n",
                "\t</PersonName>\r\n",
                "\t<Employee>\r\n",
                "\t\t<LoginID>\r\n",
                "\t\t\tadventure-works\\ken0\r\n",
                "\t\t</LoginID>\r\n",
                "\t</Employee>\r\n",
                "</row>\r\n",
                "```"
            ],
            "metadata": {
                "azdata_cell_guid": "734c7981-5b98-490a-bcf8-ab36d6e657d7"
            }
        },
        {
            "cell_type": "code",
            "source": [
                ""
            ],
            "metadata": {
                "azdata_cell_guid": "01d5052a-9e1c-4511-8362-7413cb58c025"
            },
            "outputs": [],
            "execution_count": 0
        },
        {
            "cell_type": "markdown",
            "source": [
                "## Bonus-output data as XML: the complete way\r\n",
                "\r\n",
                "The most explicit way to define your XML is using `FOR XML EXPLICIT`. If you really need to fine-tune your XML documents, have a look at this [article from SQL Server Central](https://www.sqlservercentral.com/articles/xml-workshop-iv-for-xml-explicit).\r\n",
                ""
            ],
            "metadata": {
                "azdata_cell_guid": "ad190d99-8149-407f-bbf6-105066f4d1c1"
            }
        }
    ]
}