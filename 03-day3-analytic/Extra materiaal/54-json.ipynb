{
    "metadata": {
        "kernelspec": {
            "name": "SQL",
            "display_name": "SQL",
            "language": "sql"
        },
        "language_info": {
            "name": "sql",
            "version": ""
        }
    },
    "nbformat_minor": 2,
    "nbformat": 4,
    "cells": [
        {
            "cell_type": "markdown",
            "source": [
                "# JSON data\r\n",
                "\r\n",
                "JSON (JavaScript Object Notation) is a concise and human-readable \"language\" designed to store data in a less verbose way than, say, XML.\r\n",
                "\r\n",
                "A small example of a JSON snippet we will use in this lab is:\r\n",
                "\r\n",
                "```json\r\n",
                "{\r\n",
                "\t\"Name\": \"Vlade\",\r\n",
                "\t\"Surname\": \"Divac\",\r\n",
                "\t\"Born\": { \"DoB\":\"1968-03-02\",\"Town\":\"Prijepolje\", \"Country\": \"Serbia\"},\r\n",
                "\t\"NBA Stat\": { \"pts\":13398, \"ppg\": 11.8, \"rebounds\":\t9326, \"rpg\": 8.2, \"blocks\":\t1631, \"bpg\": 1.4},\r\n",
                "\t\"Teams\": [\"Los Angeles Lakers\",\"Sacramento Kings\",\"Partizan\"],\r\n",
                "\t\"Career\": [\r\n",
                "\t\t{\"team\":\"Sloga\", \"period\":{\"start\":1983, \"end\":1986}},\r\n",
                "\t\t{\"team\":\"Partizan\", \"period\":{\"start\":1986, \"end\":1989}},\r\n",
                "\t\t{\"team\":\"Los Angeles Lakers\",\"gp\":540, \"gs\":450, \"period\":{\"start\":1989, \"end\":1996}},\r\n",
                "\t\t{\"team\":\"Charlotte Hornets\",\"gp\":145, \"gs\":121,\"period\":{\"start\":1996, \"end\":1998}},\r\n",
                "\t\t{\"team\":\"Sacramento Kings\",\"gp\":454, \"gs\":453,\"period\":{\"start\":1998, \"end\":2004}},\r\n",
                "\t\t{\"team\":\"Los Angeles Lakers\", \"gp\":15, \"gs\":0,\"period\":{\"start\":2004, \"end\":2005}}]\r\n",
                " }\r\n",
                "```\r\n",
                "\r\n",
                "JSON has the following elements:\r\n",
                "\r\n",
                "* Object-initialisers: `{` _string_ `:` _value_ `,` ... `}`\r\n",
                "* Array-initialisers: `[` _value_ `,` ... `]`\r\n",
                "* Literal values: `true`, `false` and `null`\r\n",
                "* strings, delimited by `\"`\r\n",
                "* numbers: 3.14, 42 \r\n",
                "\r\n",
                "SQL Server has several functions to work with JSON:\r\n",
                "\r\n",
                "* [ISJSON](https://docs.microsoft.com/en-us/sql/t-sql/functions/isjson-transact-sql?view=sql-server-2017) tests whether a string contains valid JSON.\r\n",
                "* [JSON_VALUE](https://docs.microsoft.com/en-us/sql/t-sql/functions/json-value-transact-sql?view=sql-server-2017) extracts a scalar value from a JSON string.\r\n",
                "* [JSON_QUERY](https://docs.microsoft.com/en-us/sql/t-sql/functions/json-query-transact-sql?view=sql-server-2017) extracts an object or an array from a JSON string.\r\n",
                "* [JSON_MODIFY](https://docs.microsoft.com/en-us/sql/t-sql/functions/json-modify-transact-sql?view=sql-server-2017) changes a value in a JSON string.\r\n",
                "\r\n",
                "Samples below are from [Channel9's Json Intro](https://github.com/microsoft/sql-server-samples/blob/master/samples/features/json/scripts/channel9-json-intro.sql)"
            ],
            "metadata": {
                "azdata_cell_guid": "8c257308-6ed5-41a3-95c8-cdca160fdac3"
            }
        },
        {
            "cell_type": "markdown",
            "source": [
                "### ISJSON\r\n",
                "\r\n",
                "`ISJSON` controleert of een JSON-variabele correct opgemaakt is.\r\n",
                "\r\n",
                "1. Probeer dit uit: \r\n",
                "   * Voer de volgende query uit, en bekijk de uitkomst\r\n",
                "   * Wijzig iets om de JSON ongeldig te maken (verwijder bijvoorbeeld een komma of `\"`)\r\n",
                "   * Voer de query nogmaals uit en bekijk de uitkomst"
            ],
            "metadata": {
                "azdata_cell_guid": "a7b77af8-c648-46e1-80ae-2a8edfa22545"
            }
        },
        {
            "cell_type": "code",
            "source": [
                "declare @json nvarchar(max) =\r\n",
                "N'{\r\n",
                "\t\"Name\": \"Vlade\",\r\n",
                "\t\"Surname\": \"Divac\",\r\n",
                "\t\"Born\": { \"DoB\":\"1968-03-02\",\"Town\":\"Prijepolje\", \"Country\": \"Serbia\"},\r\n",
                "\t\"NBA Stat\": { \"pts\":13398, \"ppg\": 11.8, \"rebounds\":\t9326, \"rpg\": 8.2, \"blocks\":\t1631, \"bpg\": 1.4},\r\n",
                "\t\"Teams\": [\"Los Angeles Lakers\",\"Sacramento Kings\",\"Partizan\"],\r\n",
                "\t\"Career\": [\r\n",
                "\t\t{\"team\":\"Sloga\", \"period\":{\"start\":1983, \"end\":1986}},\r\n",
                "\t\t{\"team\":\"Partizan\", \"period\":{\"start\":1986, \"end\":1989}},\r\n",
                "\t\t{\"team\":\"Los Angeles Lakers\",\"gp\":540, \"gs\":450, \"period\":{\"start\":1989, \"end\":1996}},\r\n",
                "\t\t{\"team\":\"Charlotte Hornets\",\"gp\":145, \"gs\":121,\"period\":{\"start\":1996, \"end\":1998}},\r\n",
                "\t\t{\"team\":\"Sacramento Kings\",\"gp\":454, \"gs\":453,\"period\":{\"start\":1998, \"end\":2004}},\r\n",
                "\t\t{\"team\":\"Los Angeles Lakers\", \"gp\":15, \"gs\":0,\"period\":{\"start\":2004, \"end\":2005}}],\r\n",
                "\t\"Bio\":\"Vlade Divac (Serbian Cyrillic: Владе Дивац) (born February 3, 1968) is a retired Serbian professional basketball player and is currently the vice president of basketball operations and general manager of the Sacramento Kings.[1]. Divac spent most of his career in the National Basketball Association (NBA). At 7 ft 1 in, he played center and was known for his passing skills. Divac was among the first group of European basketball players to transfer to the NBA in the late 1980s and was named one of the 50 Greatest Euroleague Contributors.[2] Divac is one of seven players in NBA history to record 13,000 points, 9,000 rebounds, 3,000 assists and 1,500 blocked shots, along with Kareem Abdul-Jabbar, Tim Duncan, Shaquille O''Neal, Kevin Garnett, Pau Gasol and Hakeem Olajuwon.[3][n 1] Divac was also the first player born and trained outside the United States to play in over 1,000 games in the NBA. On August 20, 2010, Divac was inducted into the FIBA Hall of Fame in recognition of his play in international competition.[4] Aside from being noticed for his basketball abilities, Divac is also known as a humanitarian, helping children in his native country of Serbia, and in Africa.[5] In October 2008 Divac was appointed a government adviser in Serbia for humanitarian issues.[6] In February 2009 he was elected President of the Serbian Olympic Committee for a 4-year term.[7] and re-elected in November 2012,[8] Divac received an honor from the World Sports Humanitarian Hall of Fame.[9], In summer 1986, at 18, right after signing for KK Partizan, Divac debuted for the senior Yugoslavia national basketball team at the 1986 FIBA World Championship in Madrid, on invitation by the head coach Krešimir Ćosić. However, the excellent rookie''s performance was spoiled by the event in the semi-finals against Soviet Union. Forty-five seconds before the end, Yugoslavia had a comfortable lead of 9 points, but Soviets scored two three-pointers within a few seconds and cut the difference to 3 points. Yugoslavia tried to hold the ball for the remaining time, opting to continue the play with throw-ins instead of free throws following fouls, but with only 14 seconds left, Divac committed a double dribble, the Soviets were awarded the ball, and tied the score with another three-pointer. In the overtime, the Soviets easily prevailed against the shocked Yugoslavs, who had to be content with the bronze.[10] The next year, Divac participated in the team that took the gold at the FIBA Junior World Championship (since split into separate under-19 and under-21 events) in Bormio, Italy. That event launched the young generation of Yugoslavian basketballers, also featuring stars like Rađa and Kukoč, regarded as likely the best in history. Before the breakup of Yugoslavia, they would also take the titles at EuroBasket 1989 and the 1990 FIBA World Championship in Argentina,[10] where they were led by Dražen Petrović,[24] as well as the EuroBasket 1991 title, with Aleksandar Đorđević at point guard.[25], Drafted into the NBA in 1989 by the Los Angeles Lakers. He was also one of the first European players to have an impact in the league. Under the mentorship of Kareem Abdul-Jabbar and Magic Johnson, he improved his play and adapted to the American style of the game. Though he spoke no English, he quickly became popular among his teammates and the public for his charm and joviality. In the 1989–90 season, he was selected into the NBA All-Rookie Team.[10] Divac earned a reputation for flopping, or deceiving the officials into calling a foul on the other team by purposely falling to the floor upon contact with an opposing player.[12] Veteran NBA forward P. J. Brown claimed that Divac might have been the best of all time at flopping.[13] Divac freely admitted doing so, adding that he usually did it when he felt like the officials had missed some calls and owed him.[14] Ian Thomsen, a Sports Illustrated columnist, grouped Divac with fellow international players Anderson Varejão and Manu Ginóbili as the players who \\\"made [flopping] famous\\\", exaggerating contact on the court in a manner analogous to diving in FIFA games.[15]\"\r\n",
                " }'\r\n",
                "\r\n",
                "-- ISJSON \r\n",
                " SELECT ISJSON(@json)"
            ],
            "metadata": {
                "azdata_cell_guid": "9205fc86-6da4-4435-84fe-d56645da84b2"
            },
            "outputs": [],
            "execution_count": 0
        },
        {
            "cell_type": "markdown",
            "source": [
                "### JSON_VALUE\r\n",
                "\r\n",
                "The following query gets the value from:\r\n",
                "\r\n",
                "* the \"Name\" key\r\n",
                "* the \"Born.Dob\" path\r\n",
                "* the second item in Career,\"period.start\" path\r\n",
                "\r\n",
                "2. Write a JSON_VALUE query to retrieve the second team in which Divac played\r\n",
                "3. Try to get the `JSON_VALUE` for `$.name`. \r\n",
                "   * Does this work as expected? Why?\r\n",
                "4. Get the number of blocks from the NBA stats"
            ],
            "metadata": {
                "azdata_cell_guid": "eaa4712c-e862-4e17-9ff6-e656a966de21"
            }
        },
        {
            "cell_type": "code",
            "source": [
                "declare @json nvarchar(max) =\r\n",
                "N'{\r\n",
                "\t\"Name\": \"Vlade\",\r\n",
                "\t\"Surname\": \"Divac\",\r\n",
                "\t\"Born\": { \"DoB\":\"1968-03-02\",\"Town\":\"Prijepolje\", \"Country\": \"Serbia\"},\r\n",
                "\t\"NBA Stat\": { \"pts\":13398, \"ppg\": 11.8, \"rebounds\":\t9326, \"rpg\": 8.2, \"blocks\":\t1631, \"bpg\": 1.4},\r\n",
                "\t\"Teams\": [\"Los Angeles Lakers\",\"Sacramento Kings\",\"Partizan\"],\r\n",
                "\t\"Career\": [\r\n",
                "\t\t{\"team\":\"Sloga\", \"period\":{\"start\":1983, \"end\":1986}},\r\n",
                "\t\t{\"team\":\"Partizan\", \"period\":{\"start\":1986, \"end\":1989}},\r\n",
                "\t\t{\"team\":\"Los Angeles Lakers\",\"gp\":540, \"gs\":450, \"period\":{\"start\":1989, \"end\":1996}},\r\n",
                "\t\t{\"team\":\"Charlotte Hornets\",\"gp\":145, \"gs\":121,\"period\":{\"start\":1996, \"end\":1998}},\r\n",
                "\t\t{\"team\":\"Sacramento Kings\",\"gp\":454, \"gs\":453,\"period\":{\"start\":1998, \"end\":2004}},\r\n",
                "\t\t{\"team\":\"Los Angeles Lakers\", \"gp\":15, \"gs\":0,\"period\":{\"start\":2004, \"end\":2005}}],\r\n",
                "\t\"Bio\":\"Vlade Divac (Serbian Cyrillic: Владе Дивац) (born February 3, 1968) is a retired Serbian professional basketball player and is currently the vice president of basketball operations and general manager of the Sacramento Kings.[1]. Divac spent most of his career in the National Basketball Association (NBA). At 7 ft 1 in, he played center and was known for his passing skills. Divac was among the first group of European basketball players to transfer to the NBA in the late 1980s and was named one of the 50 Greatest Euroleague Contributors.[2] Divac is one of seven players in NBA history to record 13,000 points, 9,000 rebounds, 3,000 assists and 1,500 blocked shots, along with Kareem Abdul-Jabbar, Tim Duncan, Shaquille O''Neal, Kevin Garnett, Pau Gasol and Hakeem Olajuwon.[3][n 1] Divac was also the first player born and trained outside the United States to play in over 1,000 games in the NBA. On August 20, 2010, Divac was inducted into the FIBA Hall of Fame in recognition of his play in international competition.[4] Aside from being noticed for his basketball abilities, Divac is also known as a humanitarian, helping children in his native country of Serbia, and in Africa.[5] In October 2008 Divac was appointed a government adviser in Serbia for humanitarian issues.[6] In February 2009 he was elected President of the Serbian Olympic Committee for a 4-year term.[7] and re-elected in November 2012,[8] Divac received an honor from the World Sports Humanitarian Hall of Fame.[9], In summer 1986, at 18, right after signing for KK Partizan, Divac debuted for the senior Yugoslavia national basketball team at the 1986 FIBA World Championship in Madrid, on invitation by the head coach Krešimir Ćosić. However, the excellent rookie''s performance was spoiled by the event in the semi-finals against Soviet Union. Forty-five seconds before the end, Yugoslavia had a comfortable lead of 9 points, but Soviets scored two three-pointers within a few seconds and cut the difference to 3 points. Yugoslavia tried to hold the ball for the remaining time, opting to continue the play with throw-ins instead of free throws following fouls, but with only 14 seconds left, Divac committed a double dribble, the Soviets were awarded the ball, and tied the score with another three-pointer. In the overtime, the Soviets easily prevailed against the shocked Yugoslavs, who had to be content with the bronze.[10] The next year, Divac participated in the team that took the gold at the FIBA Junior World Championship (since split into separate under-19 and under-21 events) in Bormio, Italy. That event launched the young generation of Yugoslavian basketballers, also featuring stars like Rađa and Kukoč, regarded as likely the best in history. Before the breakup of Yugoslavia, they would also take the titles at EuroBasket 1989 and the 1990 FIBA World Championship in Argentina,[10] where they were led by Dražen Petrović,[24] as well as the EuroBasket 1991 title, with Aleksandar Đorđević at point guard.[25], Drafted into the NBA in 1989 by the Los Angeles Lakers. He was also one of the first European players to have an impact in the league. Under the mentorship of Kareem Abdul-Jabbar and Magic Johnson, he improved his play and adapted to the American style of the game. Though he spoke no English, he quickly became popular among his teammates and the public for his charm and joviality. In the 1989–90 season, he was selected into the NBA All-Rookie Team.[10] Divac earned a reputation for flopping, or deceiving the officials into calling a foul on the other team by purposely falling to the floor upon contact with an opposing player.[12] Veteran NBA forward P. J. Brown claimed that Divac might have been the best of all time at flopping.[13] Divac freely admitted doing so, adding that he usually did it when he felt like the officials had missed some calls and owed him.[14] Ian Thomsen, a Sports Illustrated columnist, grouped Divac with fellow international players Anderson Varejão and Manu Ginóbili as the players who \\\"made [flopping] famous\\\", exaggerating contact on the court in a manner analogous to diving in FIFA games.[15]\"\r\n",
                " }'\r\n",
                "\r\n",
                "--> Get a value from \"Name\" key\r\n",
                "SELECT JSON_VALUE(@json, '$.Name')\r\n",
                "  \r\n",
                "\r\n",
                "--> Get a value from \"Born.Dob\" path\r\n",
                "SELECT JSON_VALUE(@json, '$.Born.DoB')\r\n",
                "\r\n",
                "\r\n",
                "--> Get a value from \"Career[2].period.start\" path\r\n",
                "SELECT JSON_VALUE(@json, '$.Career[2].period.start')"
            ],
            "metadata": {
                "azdata_cell_guid": "5386a191-20f4-4341-8758-358cf98ccadc"
            },
            "outputs": [],
            "execution_count": 4
        },
        {
            "cell_type": "markdown",
            "source": [
                "### JSON_QUERY\r\n",
                "\r\n",
                "5. Try to use **JSON_VALUE** (yes, that's correct) to get the contents of the \"Born\" object\r\n",
                "   * Why does it return NULL?\r\n",
                "6. Now re-try the same with JSON_QUERY\r\n",
                "7. Is the output of JSON_QUERY still valid JSON? (Test this)\r\n",
                "8. Use the output of JSON_QUERY to extract the value for the Day of Birth"
            ],
            "metadata": {
                "azdata_cell_guid": "56540d58-52bb-472e-80e1-88ee96f80ddc"
            }
        },
        {
            "cell_type": "code",
            "source": [
                "declare @json nvarchar(max) =\r\n",
                "N'{\r\n",
                "\t\"Name\": \"Vlade\",\r\n",
                "\t\"Surname\": \"Divac\",\r\n",
                "\t\"Born\": { \"DoB\":\"1968-03-02\",\"Town\":\"Prijepolje\", \"Country\": \"Serbia\"},\r\n",
                "\t\"NBA Stat\": { \"pts\":13398, \"ppg\": 11.8, \"rebounds\":\t9326, \"rpg\": 8.2, \"blocks\":\t1631, \"bpg\": 1.4},\r\n",
                "\t\"Teams\": [\"Los Angeles Lakers\",\"Sacramento Kings\",\"Partizan\"],\r\n",
                "\t\"Career\": [\r\n",
                "\t\t{\"team\":\"Sloga\", \"period\":{\"start\":1983, \"end\":1986}},\r\n",
                "\t\t{\"team\":\"Partizan\", \"period\":{\"start\":1986, \"end\":1989}},\r\n",
                "\t\t{\"team\":\"Los Angeles Lakers\",\"gp\":540, \"gs\":450, \"period\":{\"start\":1989, \"end\":1996}},\r\n",
                "\t\t{\"team\":\"Charlotte Hornets\",\"gp\":145, \"gs\":121,\"period\":{\"start\":1996, \"end\":1998}},\r\n",
                "\t\t{\"team\":\"Sacramento Kings\",\"gp\":454, \"gs\":453,\"period\":{\"start\":1998, \"end\":2004}},\r\n",
                "\t\t{\"team\":\"Los Angeles Lakers\", \"gp\":15, \"gs\":0,\"period\":{\"start\":2004, \"end\":2005}}],\r\n",
                "\t\"Bio\":\"Vlade Divac (Serbian Cyrillic: Владе Дивац) (born February 3, 1968) is a retired Serbian professional basketball player and is currently the vice president of basketball operations and general manager of the Sacramento Kings.[1]. Divac spent most of his career in the National Basketball Association (NBA). At 7 ft 1 in, he played center and was known for his passing skills. Divac was among the first group of European basketball players to transfer to the NBA in the late 1980s and was named one of the 50 Greatest Euroleague Contributors.[2] Divac is one of seven players in NBA history to record 13,000 points, 9,000 rebounds, 3,000 assists and 1,500 blocked shots, along with Kareem Abdul-Jabbar, Tim Duncan, Shaquille O''Neal, Kevin Garnett, Pau Gasol and Hakeem Olajuwon.[3][n 1] Divac was also the first player born and trained outside the United States to play in over 1,000 games in the NBA. On August 20, 2010, Divac was inducted into the FIBA Hall of Fame in recognition of his play in international competition.[4] Aside from being noticed for his basketball abilities, Divac is also known as a humanitarian, helping children in his native country of Serbia, and in Africa.[5] In October 2008 Divac was appointed a government adviser in Serbia for humanitarian issues.[6] In February 2009 he was elected President of the Serbian Olympic Committee for a 4-year term.[7] and re-elected in November 2012,[8] Divac received an honor from the World Sports Humanitarian Hall of Fame.[9], In summer 1986, at 18, right after signing for KK Partizan, Divac debuted for the senior Yugoslavia national basketball team at the 1986 FIBA World Championship in Madrid, on invitation by the head coach Krešimir Ćosić. However, the excellent rookie''s performance was spoiled by the event in the semi-finals against Soviet Union. Forty-five seconds before the end, Yugoslavia had a comfortable lead of 9 points, but Soviets scored two three-pointers within a few seconds and cut the difference to 3 points. Yugoslavia tried to hold the ball for the remaining time, opting to continue the play with throw-ins instead of free throws following fouls, but with only 14 seconds left, Divac committed a double dribble, the Soviets were awarded the ball, and tied the score with another three-pointer. In the overtime, the Soviets easily prevailed against the shocked Yugoslavs, who had to be content with the bronze.[10] The next year, Divac participated in the team that took the gold at the FIBA Junior World Championship (since split into separate under-19 and under-21 events) in Bormio, Italy. That event launched the young generation of Yugoslavian basketballers, also featuring stars like Rađa and Kukoč, regarded as likely the best in history. Before the breakup of Yugoslavia, they would also take the titles at EuroBasket 1989 and the 1990 FIBA World Championship in Argentina,[10] where they were led by Dražen Petrović,[24] as well as the EuroBasket 1991 title, with Aleksandar Đorđević at point guard.[25], Drafted into the NBA in 1989 by the Los Angeles Lakers. He was also one of the first European players to have an impact in the league. Under the mentorship of Kareem Abdul-Jabbar and Magic Johnson, he improved his play and adapted to the American style of the game. Though he spoke no English, he quickly became popular among his teammates and the public for his charm and joviality. In the 1989–90 season, he was selected into the NBA All-Rookie Team.[10] Divac earned a reputation for flopping, or deceiving the officials into calling a foul on the other team by purposely falling to the floor upon contact with an opposing player.[12] Veteran NBA forward P. J. Brown claimed that Divac might have been the best of all time at flopping.[13] Divac freely admitted doing so, adding that he usually did it when he felt like the officials had missed some calls and owed him.[14] Ian Thomsen, a Sports Illustrated columnist, grouped Divac with fellow international players Anderson Varejão and Manu Ginóbili as the players who \\\"made [flopping] famous\\\", exaggerating contact on the court in a manner analogous to diving in FIFA games.[15]\"\r\n",
                " }';\r\n",
                " "
            ],
            "metadata": {
                "azdata_cell_guid": "885fcc4a-13f7-469b-9c5b-f05469aef11e"
            },
            "outputs": [],
            "execution_count": 0
        },
        {
            "cell_type": "markdown",
            "source": [
                "### JSON_MODIFY\r\n",
                "\r\n",
                "Examine the queries below.\r\n",
                "\r\n",
                "9. Write a query to update the number of blocks to 1722\r\n",
                "10. Try to add a new object to `Career`:\r\n",
                "    * team: Landstede Hammers\r\n",
                "    * period: 2005-2029"
            ],
            "metadata": {
                "azdata_cell_guid": "7036084e-4877-4612-998a-239bca52238a"
            }
        },
        {
            "cell_type": "code",
            "source": [
                "declare @json nvarchar(max) =\r\n",
                "N'{\r\n",
                "\t\"Name\": \"Vlade\",\r\n",
                "\t\"Surname\": \"Divac\",\r\n",
                "\t\"Born\": { \"DoB\":\"1968-03-02\",\"Town\":\"Prijepolje\", \"Country\": \"Serbia\"},\r\n",
                "\t\"NBA Stat\": { \"pts\":13398, \"ppg\": 11.8, \"rebounds\":\t9326, \"rpg\": 8.2, \"blocks\":\t1631, \"bpg\": 1.4},\r\n",
                "\t\"Teams\": [\"Los Angeles Lakers\",\"Sacramento Kings\",\"Partizan\"],\r\n",
                "\t\"Career\": [\r\n",
                "\t\t{\"team\":\"Sloga\", \"period\":{\"start\":1983, \"end\":1986}},\r\n",
                "\t\t{\"team\":\"Partizan\", \"period\":{\"start\":1986, \"end\":1989}},\r\n",
                "\t\t{\"team\":\"Los Angeles Lakers\",\"gp\":540, \"gs\":450, \"period\":{\"start\":1989, \"end\":1996}},\r\n",
                "\t\t{\"team\":\"Charlotte Hornets\",\"gp\":145, \"gs\":121,\"period\":{\"start\":1996, \"end\":1998}},\r\n",
                "\t\t{\"team\":\"Sacramento Kings\",\"gp\":454, \"gs\":453,\"period\":{\"start\":1998, \"end\":2004}},\r\n",
                "\t\t{\"team\":\"Los Angeles Lakers\", \"gp\":15, \"gs\":0,\"period\":{\"start\":2004, \"end\":2005}}],\r\n",
                "\t\"Bio\":\"Vlade Divac (Serbian Cyrillic: Владе Дивац) (born February 3, 1968) is a retired Serbian professional basketball player and is currently the vice president of basketball operations and general manager of the Sacramento Kings.[1]. Divac spent most of his career in the National Basketball Association (NBA). At 7 ft 1 in, he played center and was known for his passing skills. Divac was among the first group of European basketball players to transfer to the NBA in the late 1980s and was named one of the 50 Greatest Euroleague Contributors.[2] Divac is one of seven players in NBA history to record 13,000 points, 9,000 rebounds, 3,000 assists and 1,500 blocked shots, along with Kareem Abdul-Jabbar, Tim Duncan, Shaquille O''Neal, Kevin Garnett, Pau Gasol and Hakeem Olajuwon.[3][n 1] Divac was also the first player born and trained outside the United States to play in over 1,000 games in the NBA. On August 20, 2010, Divac was inducted into the FIBA Hall of Fame in recognition of his play in international competition.[4] Aside from being noticed for his basketball abilities, Divac is also known as a humanitarian, helping children in his native country of Serbia, and in Africa.[5] In October 2008 Divac was appointed a government adviser in Serbia for humanitarian issues.[6] In February 2009 he was elected President of the Serbian Olympic Committee for a 4-year term.[7] and re-elected in November 2012,[8] Divac received an honor from the World Sports Humanitarian Hall of Fame.[9], In summer 1986, at 18, right after signing for KK Partizan, Divac debuted for the senior Yugoslavia national basketball team at the 1986 FIBA World Championship in Madrid, on invitation by the head coach Krešimir Ćosić. However, the excellent rookie''s performance was spoiled by the event in the semi-finals against Soviet Union. Forty-five seconds before the end, Yugoslavia had a comfortable lead of 9 points, but Soviets scored two three-pointers within a few seconds and cut the difference to 3 points. Yugoslavia tried to hold the ball for the remaining time, opting to continue the play with throw-ins instead of free throws following fouls, but with only 14 seconds left, Divac committed a double dribble, the Soviets were awarded the ball, and tied the score with another three-pointer. In the overtime, the Soviets easily prevailed against the shocked Yugoslavs, who had to be content with the bronze.[10] The next year, Divac participated in the team that took the gold at the FIBA Junior World Championship (since split into separate under-19 and under-21 events) in Bormio, Italy. That event launched the young generation of Yugoslavian basketballers, also featuring stars like Rađa and Kukoč, regarded as likely the best in history. Before the breakup of Yugoslavia, they would also take the titles at EuroBasket 1989 and the 1990 FIBA World Championship in Argentina,[10] where they were led by Dražen Petrović,[24] as well as the EuroBasket 1991 title, with Aleksandar Đorđević at point guard.[25], Drafted into the NBA in 1989 by the Los Angeles Lakers. He was also one of the first European players to have an impact in the league. Under the mentorship of Kareem Abdul-Jabbar and Magic Johnson, he improved his play and adapted to the American style of the game. Though he spoke no English, he quickly became popular among his teammates and the public for his charm and joviality. In the 1989–90 season, he was selected into the NBA All-Rookie Team.[10] Divac earned a reputation for flopping, or deceiving the officials into calling a foul on the other team by purposely falling to the floor upon contact with an opposing player.[12] Veteran NBA forward P. J. Brown claimed that Divac might have been the best of all time at flopping.[13] Divac freely admitted doing so, adding that he usually did it when he felt like the officials had missed some calls and owed him.[14] Ian Thomsen, a Sports Illustrated columnist, grouped Divac with fellow international players Anderson Varejão and Manu Ginóbili as the players who \\\"made [flopping] famous\\\", exaggerating contact on the court in a manner analogous to diving in FIFA games.[15]\"\r\n",
                " }';\r\n",
                "\r\n",
                "--> JSON_MODIFY updates JSON text with a new value on a specified path.\r\n",
                "SELECT JSON_MODIFY(@json, '$.Bio', 'Vlade Divac is a retired professional NBA player...')\r\n",
                "\r\n",
                "\r\n",
                "--> JSON_MODIFY may even append elements in an array.\r\n",
                "SELECT JSON_MODIFY(@json, 'append $.Teams', 'Charlotte Hornets')\r\n",
                "\r\n",
                "\r\n",
                "\r\n",
                "--> Problem: this function will set text\r\n",
                "-- \"{\\\"DoB\\\":\\\"02/03/1968\\\",\\\"Town\\\":\\\"Prijepolje\\\"}\"\r\n",
                "-- instead of the object {\"DoB\":\"02/03/1968\",\"Town\":\"Prijepolje\"}\r\n",
                "SELECT JSON_MODIFY(@json, '$.Born', '{\"DoB\":\"02/03/1968\",\"Town\":\"Prijepolje\"}')\r\n",
                "\r\n",
                "\r\n",
                "--> Solution: use JSON_QUERY to \"cast\" JSON text to JSON\r\n",
                "--  Input text will not be escaped.\r\n",
                "SELECT JSON_MODIFY(@json, '$.Born', JSON_QUERY('{\"DoB\":\"02/03/1968\",\"Town\":\"Prijepolje\"}'))"
            ],
            "metadata": {
                "azdata_cell_guid": "9e726106-4a1b-48a3-8953-7461407ff077"
            },
            "outputs": [],
            "execution_count": 0
        },
        {
            "cell_type": "markdown",
            "source": [
                "### OPENJSON\r\n",
                "\r\n",
                "In order to get more data at once from a JSON object and treat the contents as a table, you can use `OPENJSON`:"
            ],
            "metadata": {
                "azdata_cell_guid": "c3483a7f-34e3-4910-ab19-a692e31ac3c8"
            }
        },
        {
            "cell_type": "code",
            "source": [
                "declare @json nvarchar(max) =\r\n",
                "N'{\r\n",
                "\t\"Name\": \"Vlade\",\r\n",
                "\t\"Surname\": \"Divac\",\r\n",
                "\t\"Born\": { \"DoB\":\"1968-03-02\",\"Town\":\"Prijepolje\", \"Country\": \"Serbia\"},\r\n",
                "\t\"NBA Stat\": { \"pts\":13398, \"ppg\": 11.8, \"rebounds\":\t9326, \"rpg\": 8.2, \"blocks\":\t1631, \"bpg\": 1.4},\r\n",
                "\t\"Teams\": [\"Los Angeles Lakers\",\"Sacramento Kings\",\"Partizan\"],\r\n",
                "\t\"Career\": [\r\n",
                "\t\t{\"team\":\"Sloga\", \"period\":{\"start\":1983, \"end\":1986}},\r\n",
                "\t\t{\"team\":\"Partizan\", \"period\":{\"start\":1986, \"end\":1989}},\r\n",
                "\t\t{\"team\":\"Los Angeles Lakers\",\"gp\":540, \"gs\":450, \"period\":{\"start\":1989, \"end\":1996}},\r\n",
                "\t\t{\"team\":\"Charlotte Hornets\",\"gp\":145, \"gs\":121,\"period\":{\"start\":1996, \"end\":1998}},\r\n",
                "\t\t{\"team\":\"Sacramento Kings\",\"gp\":454, \"gs\":453,\"period\":{\"start\":1998, \"end\":2004}},\r\n",
                "\t\t{\"team\":\"Los Angeles Lakers\", \"gp\":15, \"gs\":0,\"period\":{\"start\":2004, \"end\":2005}}],\r\n",
                "\t\"Bio\":\"Vlade Divac (Serbian Cyrillic: Владе Дивац) (born February 3, 1968) is a retired Serbian professional basketball player and is currently the vice president of basketball operations and general manager of the Sacramento Kings.[1]. Divac spent most of his career in the National Basketball Association (NBA). At 7 ft 1 in, he played center and was known for his passing skills. Divac was among the first group of European basketball players to transfer to the NBA in the late 1980s and was named one of the 50 Greatest Euroleague Contributors.[2] Divac is one of seven players in NBA history to record 13,000 points, 9,000 rebounds, 3,000 assists and 1,500 blocked shots, along with Kareem Abdul-Jabbar, Tim Duncan, Shaquille O''Neal, Kevin Garnett, Pau Gasol and Hakeem Olajuwon.[3][n 1] Divac was also the first player born and trained outside the United States to play in over 1,000 games in the NBA. On August 20, 2010, Divac was inducted into the FIBA Hall of Fame in recognition of his play in international competition.[4] Aside from being noticed for his basketball abilities, Divac is also known as a humanitarian, helping children in his native country of Serbia, and in Africa.[5] In October 2008 Divac was appointed a government adviser in Serbia for humanitarian issues.[6] In February 2009 he was elected President of the Serbian Olympic Committee for a 4-year term.[7] and re-elected in November 2012,[8] Divac received an honor from the World Sports Humanitarian Hall of Fame.[9], In summer 1986, at 18, right after signing for KK Partizan, Divac debuted for the senior Yugoslavia national basketball team at the 1986 FIBA World Championship in Madrid, on invitation by the head coach Krešimir Ćosić. However, the excellent rookie''s performance was spoiled by the event in the semi-finals against Soviet Union. Forty-five seconds before the end, Yugoslavia had a comfortable lead of 9 points, but Soviets scored two three-pointers within a few seconds and cut the difference to 3 points. Yugoslavia tried to hold the ball for the remaining time, opting to continue the play with throw-ins instead of free throws following fouls, but with only 14 seconds left, Divac committed a double dribble, the Soviets were awarded the ball, and tied the score with another three-pointer. In the overtime, the Soviets easily prevailed against the shocked Yugoslavs, who had to be content with the bronze.[10] The next year, Divac participated in the team that took the gold at the FIBA Junior World Championship (since split into separate under-19 and under-21 events) in Bormio, Italy. That event launched the young generation of Yugoslavian basketballers, also featuring stars like Rađa and Kukoč, regarded as likely the best in history. Before the breakup of Yugoslavia, they would also take the titles at EuroBasket 1989 and the 1990 FIBA World Championship in Argentina,[10] where they were led by Dražen Petrović,[24] as well as the EuroBasket 1991 title, with Aleksandar Đorđević at point guard.[25], Drafted into the NBA in 1989 by the Los Angeles Lakers. He was also one of the first European players to have an impact in the league. Under the mentorship of Kareem Abdul-Jabbar and Magic Johnson, he improved his play and adapted to the American style of the game. Though he spoke no English, he quickly became popular among his teammates and the public for his charm and joviality. In the 1989–90 season, he was selected into the NBA All-Rookie Team.[10] Divac earned a reputation for flopping, or deceiving the officials into calling a foul on the other team by purposely falling to the floor upon contact with an opposing player.[12] Veteran NBA forward P. J. Brown claimed that Divac might have been the best of all time at flopping.[13] Divac freely admitted doing so, adding that he usually did it when he felt like the officials had missed some calls and owed him.[14] Ian Thomsen, a Sports Illustrated columnist, grouped Divac with fellow international players Anderson Varejão and Manu Ginóbili as the players who \\\"made [flopping] famous\\\", exaggerating contact on the court in a manner analogous to diving in FIFA games.[15]\"\r\n",
                " }';\r\n",
                "\r\n",
                " SELECT * \r\n",
                " FROM OPENJSON(@json);\r\n",
                "\r\n",
                "SELECT *\r\n",
                "FROM OPENJSON(@json, '$.Career')\r\n",
                "WITH (team nvarchar(50), gp int, gs int)\r\n",
                "\r\n",
                "\r\n",
                "----> Paths in column definitions enable you to parse nested JSON.\r\n",
                "SELECT *\r\n",
                "FROM OPENJSON(@json, '$.Career')\r\n",
                "\t\t\tWITH (team nvarchar(50), gp int, gs int,\r\n",
                "\t\t\t\t\tStartYear int '$.period.start',\r\n",
                "\t\t\t\t\tEndYear int '$.period.end')\r\n",
                "\r\n",
                "\r\n",
                "--> AS JSON option returns JSON nested object.\r\n",
                "SELECT *\r\n",
                "FROM OPENJSON(@json, '$.Career')\r\n",
                "\t\tWITH (team nvarchar(50), gp int, gs int,\r\n",
                "\t\t\t\tperiod nvarchar(max) AS JSON)"
            ],
            "metadata": {
                "azdata_cell_guid": "05ffc32c-12f2-4b8d-8dce-62eb778db5d1"
            },
            "outputs": [],
            "execution_count": 6
        }
    ]
}