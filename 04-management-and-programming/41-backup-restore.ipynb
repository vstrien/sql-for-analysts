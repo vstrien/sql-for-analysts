{
    "metadata": {
        "kernelspec": {
            "name": "SQL",
            "display_name": "SQL",
            "language": "sql"
        },
        "language_info": {
            "name": "sql",
            "version": ""
        }
    },
    "nbformat_minor": 2,
    "nbformat": 4,
    "cells": [
        {
            "cell_type": "markdown",
            "source": "# Backup & Restore\r\n\r\nUse `AdventureWorks2017` as a database inside this notebook.\r\n",
            "metadata": {}
        },
        {
            "cell_type": "markdown",
            "source": "1. Review the database logging settings for both `AdventureWorks2017` and `AdventureWorksDW2017`\n   * `AdventureWorks2017` should be set to `Full logging`\n   * `AdventureWorksDW2017` should be set to `Simple logging`\n\nYou can either review this via the GUI, or in T-SQL\n\n* SSMS: right-click the database, view \"Properties\"\n* Azure Data Studio: right-click the database, click \"Manage\"\n* T-SQL: \n```sql\nSELECT name, recovery_model_desc \nFROM sys.databases;\n```",
            "metadata": {}
        },
        {
            "cell_type": "code",
            "source": "SELECT name, recovery_model_desc  \r\n   FROM sys.databases;  ",
            "metadata": {},
            "outputs": [
                {
                    "output_type": "display_data",
                    "data": {
                        "text/html": "(7 rows affected)"
                    },
                    "metadata": {}
                },
                {
                    "output_type": "display_data",
                    "data": {
                        "text/html": "Total execution time: 00:00:00.071"
                    },
                    "metadata": {}
                },
                {
                    "output_type": "execute_result",
                    "execution_count": 2,
                    "data": {
                        "application/vnd.dataresource+json": {
                            "schema": {
                                "fields": [
                                    {
                                        "name": "name"
                                    },
                                    {
                                        "name": "recovery_model_desc"
                                    }
                                ]
                            },
                            "data": [
                                {
                                    "0": "master",
                                    "1": "SIMPLE"
                                },
                                {
                                    "0": "tempdb",
                                    "1": "SIMPLE"
                                },
                                {
                                    "0": "model",
                                    "1": "FULL"
                                },
                                {
                                    "0": "msdb",
                                    "1": "SIMPLE"
                                },
                                {
                                    "0": "AdventureWorks2017",
                                    "1": "FULL"
                                },
                                {
                                    "0": "AdventureWorksDW2017",
                                    "1": "SIMPLE"
                                },
                                {
                                    "0": "AdventureWorksLT2017",
                                    "1": "SIMPLE"
                                }
                            ]
                        },
                        "text/html": "<table><tr><th>name</th><th>recovery_model_desc</th></tr><tr><td>master</td><td>SIMPLE</td></tr><tr><td>tempdb</td><td>SIMPLE</td></tr><tr><td>model</td><td>FULL</td></tr><tr><td>msdb</td><td>SIMPLE</td></tr><tr><td>AdventureWorks2017</td><td>FULL</td></tr><tr><td>AdventureWorksDW2017</td><td>SIMPLE</td></tr><tr><td>AdventureWorksLT2017</td><td>SIMPLE</td></tr></table>"
                    },
                    "metadata": {}
                }
            ],
            "execution_count": 2
        },
        {
            "cell_type": "markdown",
            "source": "2. Select (and note) the current time (try to use a SQL command returning the current date and time)\r\n",
            "metadata": {}
        },
        {
            "cell_type": "code",
            "source": "SELECT GETDATE();",
            "metadata": {},
            "outputs": [
                {
                    "output_type": "display_data",
                    "data": {
                        "text/html": "(1 row affected)"
                    },
                    "metadata": {}
                },
                {
                    "output_type": "display_data",
                    "data": {
                        "text/html": "Total execution time: 00:00:00.029"
                    },
                    "metadata": {}
                },
                {
                    "output_type": "execute_result",
                    "execution_count": 7,
                    "data": {
                        "application/vnd.dataresource+json": {
                            "schema": {
                                "fields": [
                                    {
                                        "name": "(No column name)"
                                    }
                                ]
                            },
                            "data": [
                                {
                                    "0": "2019-09-24 10:07:29.667"
                                }
                            ]
                        },
                        "text/html": "<table><tr><th>(No column name)</th></tr><tr><td>2019-09-24 10:07:29.667</td></tr></table>"
                    },
                    "metadata": {}
                }
            ],
            "execution_count": 7
        },
        {
            "cell_type": "markdown",
            "source": "3. Insert a new salesperson in `AdventureWorks2017` by adding data to the following two tables:\r\n   * In `Person.BusinessEntity`: add a row\r\n     * rowguid: Use the `NEWID()` function to generate a new GUID\r\n     * ModifiedDate: Use `GETDATE()` to get the current date\r\n   * In `AdventureWorks.Sales.SalesPerson`:\r\n     * BusinessEntityID: look up (manually) the ID just generated in `Person.BusinessEntity.BusinessEntityID`\r\n     * TerritoryID: 7 (from `Sales.SalesTerritory`: France)\r\n     * SalesQuota, Bonus, CommissionPct, SalesYTD, SalesLastYear: use the values from SalesPerson with BusinessEntityID 290, add 10%\r\n       * Bonus (and probably the easiest way): gather the correct values within a SELECT-statement, then use INSERT-SELECT to add the row\r\n     * rowguid: Use the `NEWID()` function to generate a new GUID\r\n     * ModifiedDate: Use `GETDATE()` to get the current date",
            "metadata": {}
        },
        {
            "cell_type": "code",
            "source": "",
            "metadata": {},
            "outputs": [],
            "execution_count": 12
        },
        {
            "cell_type": "markdown",
            "source": "4. Insert a new employee in `AdventureWorksDW2017`. Use the same values as employee with dimension ID 269",
            "metadata": {}
        },
        {
            "cell_type": "code",
            "source": "",
            "metadata": {},
            "outputs": [],
            "execution_count": 0
        },
        {
            "cell_type": "markdown",
            "source": "5. Select (and note) the current time (yes, again)",
            "metadata": {}
        },
        {
            "cell_type": "code",
            "source": "",
            "metadata": {},
            "outputs": [
                {
                    "output_type": "display_data",
                    "data": {
                        "text/html": "(10 rows affected)"
                    },
                    "metadata": {}
                },
                {
                    "output_type": "display_data",
                    "data": {
                        "text/html": "Total execution time: 00:00:00.1029954"
                    },
                    "metadata": {}
                },
                {
                    "output_type": "execute_result",
                    "execution_count": 4,
                    "data": {
                        "application/vnd.dataresource+json": {
                            "schema": {
                                "fields": [
                                    {
                                        "name": "orderyear"
                                    },
                                    {
                                        "name": "SalesPersonID"
                                    },
                                    {
                                        "name": "NumOfOrders"
                                    }
                                ]
                            },
                            "data": [
                                {
                                    "0": "2012",
                                    "1": "277",
                                    "2": "166"
                                },
                                {
                                    "0": "2012",
                                    "1": "275",
                                    "2": "148"
                                },
                                {
                                    "0": "2013",
                                    "1": "279",
                                    "2": "159"
                                },
                                {
                                    "0": "2013",
                                    "1": "275",
                                    "2": "175"
                                },
                                {
                                    "0": "2013",
                                    "1": "276",
                                    "2": "162"
                                },
                                {
                                    "0": "2012",
                                    "1": "276",
                                    "2": "151"
                                },
                                {
                                    "0": "2013",
                                    "1": "277",
                                    "2": "185"
                                },
                                {
                                    "0": "2012",
                                    "1": "279",
                                    "2": "153"
                                },
                                {
                                    "0": "2013",
                                    "1": "289",
                                    "2": "170"
                                },
                                {
                                    "0": "2012",
                                    "1": "289",
                                    "2": "111"
                                }
                            ]
                        },
                        "text/html": "<table><tr><th>orderyear</th><th>SalesPersonID</th><th>NumOfOrders</th></tr><tr><td>2012</td><td>277</td><td>166</td></tr><tr><td>2012</td><td>275</td><td>148</td></tr><tr><td>2013</td><td>279</td><td>159</td></tr><tr><td>2013</td><td>275</td><td>175</td></tr><tr><td>2013</td><td>276</td><td>162</td></tr><tr><td>2012</td><td>276</td><td>151</td></tr><tr><td>2013</td><td>277</td><td>185</td></tr><tr><td>2012</td><td>279</td><td>153</td></tr><tr><td>2013</td><td>289</td><td>170</td></tr><tr><td>2012</td><td>289</td><td>111</td></tr></table>"
                    },
                    "metadata": {}
                }
            ],
            "execution_count": 4
        },
        {
            "cell_type": "markdown",
            "source": "6. Delete (semi-accidentally) all rows from\r\n   * `dbo.FactResellerSales` in `AdventureWorksDW2017`\r\n   * `Sales.SalesOrderDetail` in `AdventureWorks2017`\r\n",
            "metadata": {}
        },
        {
            "cell_type": "code",
            "source": "",
            "metadata": {},
            "outputs": [],
            "execution_count": 0
        },
        {
            "cell_type": "markdown",
            "source": "## Restore backups\r\n\r\nWe are now in a situation where we \"accidentally\" removed a large number of rows in both databases.\r\nIn both cases, a \"full backup\" is available. This means we can roll back both databases, but with one major difference:\r\n\r\n* with **full recovery model** (aka *full logging*), we can roll back to **any point in time**. This is called *Point In Time Recovery*.\r\n* with **simple logging**, we can only roll back to the **exact situation on the moment of backup**.",
            "metadata": {}
        },
        {
            "cell_type": "markdown",
            "source": "### Restore the AdventureWorks database\r\n\r\nThe `AdventureWorks2017` database has a **full recovery model**. This means:\r\n\r\n* larger transaction log files (.ldf)\r\n* more IOPS used (writes and reads per second to disk)\r\n* point in time recovery possible\r\n\r\nThe query below will show all transaction log files, displaying the current size (on disk the file will be larger, as there should always be room to store more transactions)\r\n",
            "metadata": {}
        },
        {
            "cell_type": "code",
            "source": "SELECT 'AdventureWorks2017', file_id, name, type_desc, physical_name, size, max_size\r\nFROM AdventureWorks2017.sys.database_files\r\n\r\nUNION ALL\r\n\r\nSELECT 'AdventureWorksDW2017', file_id, name, type_desc, physical_name, size, max_size\r\nFROM AdventureWorksDW2017.sys.database_files\r\n",
            "metadata": {},
            "outputs": [
                {
                    "output_type": "display_data",
                    "data": {
                        "text/html": "(4 rows affected)"
                    },
                    "metadata": {}
                },
                {
                    "output_type": "display_data",
                    "data": {
                        "text/html": "Total execution time: 00:00:02.495"
                    },
                    "metadata": {}
                },
                {
                    "output_type": "execute_result",
                    "execution_count": 8,
                    "data": {
                        "application/vnd.dataresource+json": {
                            "schema": {
                                "fields": [
                                    {
                                        "name": "(No column name)"
                                    },
                                    {
                                        "name": "file_id"
                                    },
                                    {
                                        "name": "name"
                                    },
                                    {
                                        "name": "type_desc"
                                    },
                                    {
                                        "name": "physical_name"
                                    },
                                    {
                                        "name": "size"
                                    },
                                    {
                                        "name": "max_size"
                                    }
                                ]
                            },
                            "data": [
                                {
                                    "0": "AdventureWorks2017",
                                    "1": "1",
                                    "2": "AdventureWorks2017",
                                    "3": "ROWS",
                                    "4": "C:\\Program Files\\Microsoft SQL Server\\MSSQL14.MSSQLSERVER\\MSSQL\\DATA\\AdventureWorks2017.mdf",
                                    "5": "33792",
                                    "6": "-1"
                                },
                                {
                                    "0": "AdventureWorks2017",
                                    "1": "2",
                                    "2": "AdventureWorks2017_log",
                                    "3": "LOG",
                                    "4": "C:\\Program Files\\Microsoft SQL Server\\MSSQL14.MSSQLSERVER\\MSSQL\\DATA\\AdventureWorks2017_log.ldf",
                                    "5": "9216",
                                    "6": "268435456"
                                },
                                {
                                    "0": "AdventureWorksDW2017",
                                    "1": "1",
                                    "2": "AdventureWorksDW2017",
                                    "3": "ROWS",
                                    "4": "C:\\Program Files\\Microsoft SQL Server\\MSSQL14.MSSQLSERVER\\MSSQL\\DATA\\AdventureWorksDW2017.mdf",
                                    "5": "17408",
                                    "6": "-1"
                                },
                                {
                                    "0": "AdventureWorksDW2017",
                                    "1": "2",
                                    "2": "AdventureWorksDW2017_log",
                                    "3": "LOG",
                                    "4": "C:\\Program Files\\Microsoft SQL Server\\MSSQL14.MSSQLSERVER\\MSSQL\\DATA\\AdventureWorksDW2017_log.ldf",
                                    "5": "9216",
                                    "6": "268435456"
                                }
                            ]
                        },
                        "text/html": "<table><tr><th>(No column name)</th><th>file_id</th><th>name</th><th>type_desc</th><th>physical_name</th><th>size</th><th>max_size</th></tr><tr><td>AdventureWorks2017</td><td>1</td><td>AdventureWorks2017</td><td>ROWS</td><td>C:\\Program Files\\Microsoft SQL Server\\MSSQL14.MSSQLSERVER\\MSSQL\\DATA\\AdventureWorks2017.mdf</td><td>33792</td><td>-1</td></tr><tr><td>AdventureWorks2017</td><td>2</td><td>AdventureWorks2017_log</td><td>LOG</td><td>C:\\Program Files\\Microsoft SQL Server\\MSSQL14.MSSQLSERVER\\MSSQL\\DATA\\AdventureWorks2017_log.ldf</td><td>9216</td><td>268435456</td></tr><tr><td>AdventureWorksDW2017</td><td>1</td><td>AdventureWorksDW2017</td><td>ROWS</td><td>C:\\Program Files\\Microsoft SQL Server\\MSSQL14.MSSQLSERVER\\MSSQL\\DATA\\AdventureWorksDW2017.mdf</td><td>17408</td><td>-1</td></tr><tr><td>AdventureWorksDW2017</td><td>2</td><td>AdventureWorksDW2017_log</td><td>LOG</td><td>C:\\Program Files\\Microsoft SQL Server\\MSSQL14.MSSQLSERVER\\MSSQL\\DATA\\AdventureWorksDW2017_log.ldf</td><td>9216</td><td>268435456</td></tr></table>"
                    },
                    "metadata": {}
                }
            ],
            "execution_count": 8
        },
        {
            "cell_type": "markdown",
            "source": "To do a point-in-time (PIT) restore, start SSMS.\r\nFrom there, follow the instructions on [https://docs.microsoft.com/en-us/sql/relational-databases/backup-restore/restore-a-sql-server-database-to-a-point-in-time-full-recovery-model?view=sql-server-2017](https://docs.microsoft.com/en-us/sql/relational-databases/backup-restore/restore-a-sql-server-database-to-a-point-in-time-full-recovery-model?view=sql-server-2017) under the heading **Using SQL Server Management Studio**.\r\n\r\n* Restore to the point *before* the \"accidental\" deletion of `SalesOrderDetail`, but *after* the inserting of the new `SalesPerson`. \r\n* Make sure the `WITH OVERWRITE` option is selected\r\n* Make sure active connections are closed\r\n",
            "metadata": {}
        },
        {
            "cell_type": "markdown",
            "source": "### Restore the AdventureWorksDW database\r\n\r\nGiven the explanation about *full recovery model*, I expect a point-in-time recovery for the `AdventureWorksDW` database to be impossible, because it doesn't keep all transactions in between two backups. \r\n\r\nTo test this assumption, try to do the same restore (before deleting the fact, but after adding the new employee) on AdventureWorksDW.\r\n\r\nIf this is not possible, do a restore of the full backup, and check that the new employee has disappeared from the DimEmployee table. You can do this either via the GUI in SSMS, or try to find the T-SQL commands to do it using T-SQL.",
            "metadata": {}
        }
    ]
}