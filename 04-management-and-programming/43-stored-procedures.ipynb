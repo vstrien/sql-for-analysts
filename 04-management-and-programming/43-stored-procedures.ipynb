{
    "metadata": {
        "kernelspec": {
            "name": "SQL",
            "display_name": "SQL",
            "language": "sql"
        },
        "language_info": {
            "name": "sql",
            "version": ""
        }
    },
    "nbformat_minor": 2,
    "nbformat": 4,
    "cells": [
        {
            "cell_type": "markdown",
            "source": [
                "# Stored procedures"
            ],
            "metadata": {
                "azdata_cell_guid": "d6d66be7-1d0a-47bf-925d-4759dc1a099f"
            }
        },
        {
            "cell_type": "markdown",
            "source": [
                "## Creating a stored procedure\n",
                "\n",
                "Almost any block of SQL statements can be captured inside a *stored procedure*: basically a name that you put on a piece of code.\n",
                "\n",
                "For example:\n",
                "\n",
                "```sql\n",
                "CREATE PROCEDURE [dbo].[getEmployeesByGender]\n",
                "(\n",
                "    @gender CHAR(1)\n",
                ")\n",
                "AS\n",
                "\n",
                "IF(@gender = 'F')\n",
                "THEN\n",
                "    SELECT\n",
                "    * \n",
                "    FROM [HumanResources].[Employee]\n",
                "    WHERE [Gender] = 'F'\n",
                "ELSE\n",
                "    SELECT CONCAT('Gender was ', @gender);\n",
                "```\n",
                "\n",
                "## Executing a stored procedure\n",
                "\n",
                "A stored procedure can be executed using the `exec` keyword. Arguments are passed directly, without parentheses:\n",
                "\n",
                "```sql\n",
                "exec dbo.getEmployeesByGender 'F'\n",
                "```"
            ],
            "metadata": {
                "azdata_cell_guid": "e2f201f3-cc74-474e-bf8a-12272d08db4c"
            }
        },
        {
            "cell_type": "code",
            "source": [
                ""
            ],
            "metadata": {
                "azdata_cell_guid": "5d1ecfbe-131e-46b5-aac7-c199365c8350"
            },
            "outputs": [],
            "execution_count": 0
        }
    ]
}