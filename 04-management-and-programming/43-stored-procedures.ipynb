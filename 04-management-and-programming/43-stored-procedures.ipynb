{
    "metadata": {
        "kernelspec": {
            "name": "SQL",
            "display_name": "SQL",
            "language": "sql"
        },
        "language_info": {
            "name": "sql",
            "version": ""
        }
    },
    "nbformat_minor": 2,
    "nbformat": 4,
    "cells": [
        {
            "cell_type": "markdown",
            "source": [
                "# Stored procedures\n",
                "\n",
                "* Stappenplannen (batches) vangen in een stored procedure\n",
                "* Parameters gebruiken\n",
                "* Laad-logica in stored procedure vangen en testen\n",
                ""
            ],
            "metadata": {
                "azdata_cell_guid": "d6d66be7-1d0a-47bf-925d-4759dc1a099f"
            }
        }
    ]
}