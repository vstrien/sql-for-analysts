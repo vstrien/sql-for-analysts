{
    "metadata": {
        "kernelspec": {
            "name": "SQL",
            "display_name": "SQL",
            "language": "sql"
        },
        "language_info": {
            "name": "sql",
            "version": ""
        }
    },
    "nbformat_minor": 2,
    "nbformat": 4,
    "cells": [
        {
            "cell_type": "markdown",
            "source": [
                "# Stored procedures\n",
                "\n",
                "* Stappenplannen (batches) vangen in een stored procedure\n",
                "* Parameters gebruiken\n",
                "* Laad-logica in stored procedure vangen en testen\n",
                ""
            ],
            "metadata": {
                "azdata_cell_guid": "d6d66be7-1d0a-47bf-925d-4759dc1a099f"
            }
        },
        {
            "cell_type": "markdown",
            "source": [
                "## Creating a stored procedure\n",
                "\n",
                "Almost any block of SQL statements can be captured inside a *stored procedure*: basically a name that you put on a piece of code.\n",
                "\n",
                "For example:\n",
                "\n",
                "```sql\n",
                "CREATE PROCEDURE [dbo].[getEmployeesByGender]\n",
                "(\n",
                "    @gender CHAR(1)\n",
                ")\n",
                "AS\n",
                "\n",
                "IF(@gender = 'F')\n",
                "THEN\n",
                "SELECT\n",
                "\n",
                "```"
            ],
            "metadata": {
                "azdata_cell_guid": "e2f201f3-cc74-474e-bf8a-12272d08db4c"
            }
        }
    ]
}