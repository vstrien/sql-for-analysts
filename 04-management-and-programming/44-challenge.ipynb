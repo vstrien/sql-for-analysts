{
    "metadata": {
        "kernelspec": {
            "name": "SQL",
            "display_name": "SQL",
            "language": "sql"
        },
        "language_info": {
            "name": "sql",
            "version": ""
        }
    },
    "nbformat_minor": 2,
    "nbformat": 4,
    "cells": [
        {
            "cell_type": "markdown",
            "source": [
                "# Challenge Assignment\r\n",
                "\r\n",
                "Create a staging table for the `Production.Product` table from `AdventureWorks2017`:\r\n",
                "\r\n",
                "* Create a new database (think about the logging level you want to have!)\r\n",
                "* Use the CREATE TABLE statement from the table you want to stage\r\n",
                "* Leave out all constraints, but keep datatypes the same\r\n",
                "* Add two new columns:\r\n",
                "  1. An identity column for the staging area\r\n",
                "  2. A Load Date-Time Stamp\r\n",
                "* Now, create a stored procedure that truncates and inserts this staging area from the source table"
            ],
            "metadata": {
                "azdata_cell_guid": "fa30f736-77d7-4cbf-a50f-93190db33692"
            }
        },
        {
            "cell_type": "code",
            "source": [
                ""
            ],
            "metadata": {
                "azdata_cell_guid": "d971efa1-7309-4f25-b8fb-8c7da089f430"
            },
            "outputs": [],
            "execution_count": 0
        },
        {
            "cell_type": "markdown",
            "source": [
                "## Bonus 1 - building a DW\r\n",
                "\r\n",
                "> You can do the two bonus assignments apart from each other. This first bonus focuses on how to load historical data, the second bonus has a more technical take on SQL Server using `sys.tables` or the `INFORMATION_SCHEMA` views. Of course, you could do them both if you like.\r\n",
                "\r\n",
                "In most Data Warehouses, you'll have not only a \"staging\" area, but also a \"historical\" layer. Create this layer:\r\n",
                "\r\n",
                "* Table structure can be the same as in the staging area\r\n",
                "* Write a stored procedure that inserts rows if they don't exist yet\r\n",
                "* If you want to take this even further: alter the stored procedure for loading the staging areaso that it only loads rows that you don't have already in your history layer."
            ],
            "metadata": {
                "azdata_cell_guid": "6d3a6a06-fbf5-4c93-8c83-9b589b72813e"
            }
        },
        {
            "cell_type": "code",
            "source": [
                ""
            ],
            "metadata": {
                "azdata_cell_guid": "75b45706-a36a-43d8-9d33-70d68c0e07e8"
            },
            "outputs": [],
            "execution_count": 0
        },
        {
            "cell_type": "markdown",
            "source": [
                "## Bonus 2 - Generate ALL the things\r\n",
                "\r\n",
                "> You can do the two bonus assignments apart from each other. The first bonus focused on how to load historical data, **this second bonus has a more technical take on SQL Server using `sys.tables` or the `INFORMATION_SCHEMA` views**. Of course, you could do them both if you like.\r\n",
                "\r\n",
                "Creating a staging area is pretty repetitive and boring work. So, automate it. Basically this is an extended version of the bonus assignment from [Programming and variables](42-programming-and-variables.ipynb).\r\n",
                "\r\n",
                "* Create a stored procedure that generates `CREATE TABLE` statements in the way described in [Programming and variables](42-programming-and-variables.ipynb).\r\n",
                "* This time, don't iterate over some metadata-table, but just use the input of `sys.tables` (filter on type `USER`).\r\n",
                "  * Start with one particular table\r\n",
                "  * then extend it to a complete schema\r\n",
                "* Start with two bogus columns (`Id` and `Name`) inside each `CREATE TABLE` statement\r\n",
                "* If that succeeds, extend it to the \"real\" columns. \r\n",
                "* Don't try to boil the ocean: it would be pretty impressive if you generated `CREATE TABLE` statements containing only all `VARCHAR`, `NVARCHAR` and `INT` columns. Just leave out any datatypes you don't recognize at once.\r\n",
                "* If the output doesn't fit, call on me for some tricks. (You can set a larger output in SSMS for instance).\r\n",
                ""
            ],
            "metadata": {
                "azdata_cell_guid": "e418553c-89cd-4cc3-bb06-052d16eecfcb"
            }
        }
    ]
}