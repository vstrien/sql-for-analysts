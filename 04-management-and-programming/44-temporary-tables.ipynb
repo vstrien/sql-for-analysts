{
    "metadata": {
        "kernelspec": {
            "name": "SQL",
            "display_name": "SQL",
            "language": "sql"
        },
        "language_info": {
            "name": "sql",
            "version": ""
        }
    },
    "nbformat_minor": 2,
    "nbformat": 4,
    "cells": [
        {
            "cell_type": "markdown",
            "source": [
                "# Temporary tables\n",
                "\n",
                "* Handig voor tijdelijk opslaan (niet alles in één query)\n",
                "* Ook in Stored Procedure goed te gebruiken\n",
                "* Pattern laten zien voor controle of Temp. Table al bestaat\n",
                "* Levensduur\n",
                ""
            ],
            "metadata": {
                "azdata_cell_guid": "ee095219-8536-4988-b0e8-888b79a9010f"
            }
        }
    ]
}