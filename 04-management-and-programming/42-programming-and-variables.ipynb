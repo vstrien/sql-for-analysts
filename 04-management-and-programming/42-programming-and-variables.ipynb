{
    "metadata": {
        "kernelspec": {
            "name": "SQL",
            "display_name": "SQL",
            "language": "sql"
        },
        "language_info": {
            "name": "sql",
            "version": ""
        }
    },
    "nbformat_minor": 2,
    "nbformat": 4,
    "cells": [
        {
            "cell_type": "markdown",
            "source": [
                "# Programming and variables\r\n",
                ""
            ],
            "metadata": {
                "azdata_cell_guid": "4c7e134e-6976-4223-b51f-001ec6028d50"
            }
        },
        {
            "cell_type": "markdown",
            "source": [
                "## Batches"
            ],
            "metadata": {
                "azdata_cell_guid": "d4d83305-04ea-4bf1-b2cf-a8dbcbdec578"
            }
        },
        {
            "cell_type": "markdown",
            "source": [
                "1. Create a simple table called `dbo.ListOfNames` with 2 columns:\r\n",
                "   * one Id (type INT, IDENTITY)\r\n",
                "   * one Name, type VARCHAR(30)"
            ],
            "metadata": {
                "azdata_cell_guid": "8f3e68f2-c7f9-4785-a676-49e6276170e7"
            }
        },
        {
            "cell_type": "code",
            "source": [
                ""
            ],
            "metadata": {
                "azdata_cell_guid": "bf02c489-9fed-41f5-aeb1-1b55eed83fb1"
            },
            "outputs": [],
            "execution_count": 0
        },
        {
            "cell_type": "markdown",
            "source": [
                "2. Insert a single row in it. Terminate the statement with GO\r\n",
                "   * name should be 'Koos'. Or your own name. Or anything else."
            ],
            "metadata": {
                "azdata_cell_guid": "254c7648-1c2a-405a-b252-c09809fa2b38"
            }
        },
        {
            "cell_type": "code",
            "source": [
                ""
            ],
            "metadata": {
                "azdata_cell_guid": "e84d6306-7e5e-4eee-a495-5427bbcd5a5e"
            },
            "outputs": [],
            "execution_count": 0
        },
        {
            "cell_type": "markdown",
            "source": [
                "3. Examine the contents of the table"
            ],
            "metadata": {
                "azdata_cell_guid": "07f04107-069f-412d-b928-9406fa974a01"
            }
        },
        {
            "cell_type": "code",
            "source": [
                ""
            ],
            "metadata": {
                "azdata_cell_guid": "4443a762-a20d-4b14-88bb-e0a33dc02d99"
            },
            "outputs": [],
            "execution_count": 0
        },
        {
            "cell_type": "markdown",
            "source": [
                "4. Copy and paste the query from question 2, but now replace the `GO` with `GO 10`. Examine the results"
            ],
            "metadata": {
                "azdata_cell_guid": "6623ea95-b7bc-4a82-a958-b5291f2d3730"
            }
        },
        {
            "cell_type": "code",
            "source": [
                "-- same query as 2, but now with a GO 10"
            ],
            "metadata": {
                "azdata_cell_guid": "f9a56e19-f536-40eb-986d-6d7cb3f79d9e"
            },
            "outputs": [],
            "execution_count": 0
        },
        {
            "cell_type": "code",
            "source": [
                "-- examination of the `dbo.ListOfNames`"
            ],
            "metadata": {
                "azdata_cell_guid": "f67c1d3f-709d-4e1b-b06e-d331370e4fbb"
            },
            "outputs": [],
            "execution_count": 0
        },
        {
            "cell_type": "markdown",
            "source": [
                "The `GO` statement separates *batches*: the lines SQL Server will try to grok and execute. \r\n",
                "\r\n",
                "By providing a number after `GO` (for example `GO 10`), the batch is executed that number of times."
            ],
            "metadata": {
                "azdata_cell_guid": "1a93a737-6cfc-41ff-a63f-20f30a4a6fbc"
            }
        },
        {
            "cell_type": "markdown",
            "source": [
                "## Variables\r\n",
                "\r\n",
                "To store data for the duration of one batch, you can use a *variable*.\r\n",
                "\r\n",
                "5. For example, try the commands below and see what happens.\r\n",
                "\r\n",
                "* First, describe what you expect to see when you \"just\" read the syntax for every line (guesses are ok!)\r\n",
                "* Then, execute the code.\r\n",
                "  * Notice that you cannot execute the line-by-line: \r\n",
                "    * Executing only the first line will be ok\r\n",
                "    * Executing only the second line will yield an error: you are now in a new *batch*, so the variable you declared in an earlier batch has disappeared\r\n",
                "  * Therefor, instead of line-by-line you should execute the code from start until the line you want to see the results of.\r\n",
                "    * So if you want to see the results of line 2, you execute both line 1 AND 2.\r\n",
                "\r\n",
                "```sql\r\n",
                "DECLARE @name VARCHAR(30);\r\n",
                "SET @name = 'Koos';\r\n",
                "SELECT @name;\r\n",
                "SELECT @name = 'Inge';\r\n",
                "PRINT @name;\r\n",
                "DECLARE @anotherName VARCHAR(30) = 'Sanne';\r\n",
                "```"
            ],
            "metadata": {
                "azdata_cell_guid": "e812d1da-c172-42ae-9cbb-d01a4c9b66f1"
            }
        },
        {
            "cell_type": "code",
            "source": [
                ""
            ],
            "metadata": {
                "azdata_cell_guid": "7096be7a-c0b9-4dcd-abb3-f8c927d6f42f"
            },
            "outputs": [],
            "execution_count": 0
        },
        {
            "cell_type": "markdown",
            "source": [
                "### Variables part 2\r\n",
                "\r\n",
                "6. Write a script using the following steps:\r\n",
                "   * Retrieve the *BusinessEntityId* of the salesperson with the highest amount of sales according to SalesOrderHeader\r\n",
                "   * Store the *BusinessEntityId* in a variable\r\n",
                "   * Retrieve and display the first- and last name of this salesperson based on the variable\r\n",
                "   * As a bonus, not only display the first and last name, but also the amount of sales this person made. Use a second variable for this figure."
            ],
            "metadata": {
                "azdata_cell_guid": "ea988b8f-aab2-4c70-a5c9-a3006ab714e3"
            }
        },
        {
            "cell_type": "code",
            "source": [
                ""
            ],
            "metadata": {
                "azdata_cell_guid": "36d51f6a-357f-42f6-9c84-9f7093f86275"
            },
            "outputs": [],
            "execution_count": 0
        },
        {
            "cell_type": "markdown",
            "source": [
                "## Conditional logic with IF-statements\r\n",
                "\r\n",
                "7. Write a small SQL-script on `AdventureWorks2017`. Use an `IF` statement for the conditional logic\r\n",
                "\r\n",
                "* Declare a variable `@gender` of type `CHAR(1)`\r\n",
                "* If `@gender` = 'F', then execute the following query:\r\n",
                "\r\n",
                "```sql\r\n",
                "SELECT\r\n",
                "* \r\n",
                "FROM [HumanResources].[Employee]\r\n",
                "WHERE [Gender] = 'F'\r\n",
                "```\r\n",
                "\r\n",
                "* Otherwise, execute the same query, but without any filter on `[Gender]`:\r\n",
                "\r\n",
                "```sql\r\n",
                "SELECT\r\n",
                "* \r\n",
                "FROM [HumanResources].[Employee]\r\n",
                "WHERE [Gender] = 'F'\r\n",
                "```"
            ],
            "metadata": {
                "azdata_cell_guid": "fa1bedca-c8a4-4230-9fc0-7e89067553cb"
            }
        },
        {
            "cell_type": "code",
            "source": [
                ""
            ],
            "metadata": {
                "azdata_cell_guid": "a221ae68-711e-4779-b016-969d4621b510"
            },
            "outputs": [],
            "execution_count": 0
        },
        {
            "cell_type": "markdown",
            "source": [
                "8. (Bonus) the script above can be rewritten without having to use an `IF` statement.\r\n",
                "   * Write the script without the `IF` statement\r\n",
                "   * Why would you choose one over another?"
            ],
            "metadata": {
                "azdata_cell_guid": "7ab0958e-84bd-403b-ab78-54a052a39cd7"
            }
        },
        {
            "cell_type": "code",
            "source": [
                ""
            ],
            "metadata": {
                "azdata_cell_guid": "d3bff9ea-bdf3-477f-b900-45cfb427bcf4"
            },
            "outputs": [],
            "execution_count": 0
        },
        {
            "cell_type": "markdown",
            "source": [
                "9. One particular case where an IF-statement is useful, is to ensure the repeatability of your scripts.\r\n",
                "   * Rewrite the `SELECT` statement below so that it outputs data into the temporary table `#femaleEmployees`\r\n",
                "   * Don't use any `CREATE TABLE` statements\r\n",
                "   * If you don't know how to do this, have a look at [this page (link)](https://bit.ly/2kYbIjc).\r\n",
                "   \r\n",
                "The script you just wrote can be executed only once. The second time you execute this script, it will fail: the temporary table already exists.\r\n",
                "\r\n",
                "> Unlike a variable, a temporary table will remain after your *batch* has completed. It will be removed as soon as your *connection* is dropped.\r\n",
                "\r\n",
                "   * Now, add a `DROP TABLE` statement at the top of your script:\r\n",
                "\r\n",
                "```sql\r\n",
                "DROP TABLE #femaleEmployees;\r\n",
                "```\r\n",
                "\r\n",
                "Now you can re-execute the script. In some sense, it's repeatable now. However..\r\n",
                "   * Open a new query window, and execute the complete script\r\n",
                "\r\n",
                "As you see, now the script fails the first time. The table doesn't exist yet, so you cannot drop it!\r\n",
                "\r\n",
                "This particular case can be solved easily using an `IF` statement that checks if the table exists already\r\n",
                "\r\n",
                "   * The way to check if any object in a database exists is using the `OBJECT_ID` function\r\n",
                "   * For temporary tables, have a look at [this second hit from the Google search 'Check if temporary table exists in SQL'](https://bit.ly/2l37OFU) (or execute the search yourself)\r\n",
                "   * Add this little snippet, and check in a new query window \r\n",
                "     1. that it works the first time\r\n",
                "     2. that it can be re-executed\r\n",
                ""
            ],
            "metadata": {
                "azdata_cell_guid": "bc9ffb5d-e4f8-4dab-ad97-f1c3bc13401f"
            }
        },
        {
            "cell_type": "code",
            "source": [
                ""
            ],
            "metadata": {
                "azdata_cell_guid": "fa8d8d8f-6203-4097-92d6-8efb4cf54e52"
            },
            "outputs": [],
            "execution_count": 0
        },
        {
            "cell_type": "markdown",
            "source": [
                "## Program flow (WHILE)\r\n",
                "\r\n",
                "The `WHILE` function checks if a condition is true. As long as the condition is true, it keeps executing a code block:\r\n",
                "\r\n",
                "```sql\r\n",
                "DECLARE @number INT = 0;\r\n",
                "\r\n",
                "WHILE @number < 10 \r\n",
                "BEGIN\r\n",
                "    PRINT 'Hi!';\r\n",
                "    PRINT @number;\r\n",
                "\r\n",
                "    SET @number = @number + 1;\r\n",
                "END;\r\n",
                "```\r\n",
                "\r\n",
                "This can be great for generating demo workloads or fake data, just to stress-test your system.\r\n",
                "\r\n",
                "10. Use a `WHILE` loop to generate fake data\r\n",
                "    * Create a temporary table called `#students`\r\n",
                "        * Two columns, `Id` (bigint, identity) and `Name` (`varchar(30)`)\r\n",
                "    * Write a `WHILE` loop to insert 10.000 rows (use the sample above as a pattern)\r\n",
                "    * Every student name should be 'Student *n*', where *n* is the number of the iteration\r\n",
                "    * The first student should be 'Student 1' (not 0!), the last 'Student 10000'"
            ],
            "metadata": {
                "azdata_cell_guid": "8b8eeabe-5660-48ae-89a0-a005647b52ee"
            }
        },
        {
            "cell_type": "code",
            "source": [
                ""
            ],
            "metadata": {
                "azdata_cell_guid": "2e3471c6-4c13-4e7b-bfc0-55aa9bd350b4"
            },
            "outputs": [],
            "execution_count": 0
        },
        {
            "cell_type": "markdown",
            "source": [
                "## Looking for a challenge?\r\n",
                "\r\n",
                "**If you're finished early, find everything above pretty easy, or just want some extra challenge, this part could be useful. In all other cases, just skip it.**\r\n",
                "\r\n",
                "A `WHILE` statement can help to iterate (loop) over a given block of code (the \"block\" is from `BEGIN` to `END`) while re-evaluating the condition (in the example above, `@number < 10`). However, it is often useful to be able to iterate not with a static condition, but based on the contents of a table.\r\n",
                "\r\n",
                "A construction to iterate over the contents of a table is a `CURSOR`. It isn't the most straightforward syntax, but can be very useful.\r\n",
                "\r\n",
                "You can read more about cursor on [http://www.sqlservertutorial.net/sql-server-stored-procedures/sql-server-cursor/](http://www.sqlservertutorial.net/sql-server-stored-procedures/sql-server-cursor/).\r\n",
                "\r\n",
                "> Keep in mind that in most cases (implementing business rules, data analysis etc.), **cursors are not the answer**. The row-based approach is something that a relational database engine like SQL Server simply is not designed to do. \r\n",
                "> \r\n",
                "> In other cases, cursor may come in very handy. For example, when you're managing many tables (you could iterate over `sys.tables`, filtering by schema using a `JOIN` to `sys.schemas` or name pattern using `LIKE`). Or when you're generating lots of DDL statements (combine the knowledge about `sys.tables` with `PRINT` statements and `VARCHAR` variables to \"build\" SQL-statements).\r\n",
                "> \r\n",
                "> Basically, this is a way to program using the database. Sometimes useful, but be careful :-)"
            ],
            "metadata": {
                "azdata_cell_guid": "cd3fff4e-4f83-45ed-b22d-2de519449b53"
            }
        },
        {
            "cell_type": "markdown",
            "source": [
                "### Bonus: DDL-generation using metadata and cursors\r\n",
                "\r\n",
                "10. Create a metadata-table and generate some tables with it\r\n",
                "    * Declare a variable `@sqlToExecute` of type `VARCHAR(MAX)`\r\n",
                "    * Create a small (temporary?) table that contains your metadata\r\n",
                "      * Two columns:\r\n",
                "      * Id (bigint, identity)\r\n",
                "      * Schema (sysname)\r\n",
                "      * TableName (sysname)\r\n",
                "    * Insert table five rows\r\n",
                "| schema | tablename         |\r\n",
                "|--------|-------------------|\r\n",
                "| dbo    | cursorcustomers   |\r\n",
                "| dbo    | cursorproducts    |\r\n",
                "| dbo    | cursoremployees   |\r\n",
                "| dbo    | cursorsales       |\r\n",
                "| dbo    | cursorotherthings |\r\n",
                "\r\n",
                "    * Create a cursor to iterate over these rows. Inside the cursor:\r\n",
                "      * Clear the variable `@sqlToExecute`\r\n",
                "      * Fill the variable with a new SQL Statement: `CREATE TABLE [(schemaname)].[(tablename)]`\r\n",
                "      * Add two columns in this SQL statement (use your creativity for column names and datatypes)\r\n",
                "      * Execute the SQL code inside `@sqlToExecute`. You can do this using [sp_executesql (link to MSFT docs)](https://docs.microsoft.com/en-us/sql/relational-databases/system-stored-procedures/sp-executesql-transact-sql?view=sql-server-2017).\r\n",
                "    * Make sure your script is repeatable (if the tables already exist, they should be dropped)"
            ],
            "metadata": {
                "azdata_cell_guid": "a890b455-0f15-42c6-b9fb-9c743bc90840"
            }
        },
        {
            "cell_type": "code",
            "source": [
                ""
            ],
            "metadata": {
                "azdata_cell_guid": "deea8f83-e64c-4d3a-8a92-45ca2519970e"
            },
            "outputs": [],
            "execution_count": 0
        }
    ]
}