{
    "metadata": {
        "kernelspec": {
            "name": "SQL",
            "display_name": "SQL",
            "language": "sql"
        },
        "language_info": {
            "name": "sql",
            "version": ""
        }
    },
    "nbformat_minor": 2,
    "nbformat": 4,
    "cells": [
        {
            "cell_type": "markdown",
            "source": [
                "# Programming and variables\r\n",
                "\r\n",
                "## Programmaflow\r\n",
                "\r\n",
                "* Recap: CASE-statement. Waarde binnen een query voor elke rij.\r\n",
                "* Maar wat nu als je wilt kiezen tussen twee queries?\r\n",
                "  * Optie 1 (preferred): met WHERE-clausules goed scheiden\r\n",
                "  * Optie 2 (handig voor beheer e.d.): een IF-statement\r\n",
                "* Bijzondere casus: handig wanneer je DDL-logica wilt scheiden, i.c.m. `OBJECT_ID`\r\n",
                "\r\n",
                "* WHILE voor automatiseren van grotere hoeveelheden statements\r\n",
                "* Basis-casus: aanmaken van verzameling aan tabellen\r\n",
                "* Meer geavanceerde casus?\r\n",
                "\r\n",
                "## Cursors (voor de liefhebbers)\r\n",
                "\r\n",
                "* Doorlopen van metadata-tabel om je tabellen te genereren\r\n",
                ""
            ],
            "metadata": {
                "azdata_cell_guid": "4c7e134e-6976-4223-b51f-001ec6028d50"
            }
        },
        {
            "cell_type": "markdown",
            "source": [
                "## Batches"
            ],
            "metadata": {
                "azdata_cell_guid": "d4d83305-04ea-4bf1-b2cf-a8dbcbdec578"
            }
        },
        {
            "cell_type": "markdown",
            "source": [
                "1. Create a simple table called `dbo.ListOfNames` with 2 columns:\r\n",
                "   * one Id (type INT, IDENTITY)\r\n",
                "   * one Name, type VARCHAR(30)"
            ],
            "metadata": {
                "azdata_cell_guid": "8f3e68f2-c7f9-4785-a676-49e6276170e7"
            }
        },
        {
            "cell_type": "code",
            "source": [
                ""
            ],
            "metadata": {
                "azdata_cell_guid": "bf02c489-9fed-41f5-aeb1-1b55eed83fb1"
            },
            "outputs": [],
            "execution_count": 0
        },
        {
            "cell_type": "markdown",
            "source": [
                "2. Insert a single row in it. Terminate the statement with GO\r\n",
                "   * name should be 'Koos'. Or your own name. Or anything else."
            ],
            "metadata": {
                "azdata_cell_guid": "254c7648-1c2a-405a-b252-c09809fa2b38"
            }
        },
        {
            "cell_type": "code",
            "source": [
                ""
            ],
            "metadata": {
                "azdata_cell_guid": "e84d6306-7e5e-4eee-a495-5427bbcd5a5e"
            },
            "outputs": [],
            "execution_count": 0
        },
        {
            "cell_type": "markdown",
            "source": [
                "3. Examine the contents of the table"
            ],
            "metadata": {
                "azdata_cell_guid": "07f04107-069f-412d-b928-9406fa974a01"
            }
        },
        {
            "cell_type": "code",
            "source": [
                ""
            ],
            "metadata": {
                "azdata_cell_guid": "4443a762-a20d-4b14-88bb-e0a33dc02d99"
            },
            "outputs": [],
            "execution_count": 0
        },
        {
            "cell_type": "markdown",
            "source": [
                "4. Copy and paste the query from question 2, but now replace the `GO` with `GO 10`. Examine the results"
            ],
            "metadata": {
                "azdata_cell_guid": "6623ea95-b7bc-4a82-a958-b5291f2d3730"
            }
        },
        {
            "cell_type": "code",
            "source": [
                "-- same query as 2, but now with a GO 10"
            ],
            "metadata": {
                "azdata_cell_guid": "f9a56e19-f536-40eb-986d-6d7cb3f79d9e"
            },
            "outputs": [],
            "execution_count": 0
        },
        {
            "cell_type": "code",
            "source": [
                "-- examination of the `dbo.ListOfNames`"
            ],
            "metadata": {
                "azdata_cell_guid": "f67c1d3f-709d-4e1b-b06e-d331370e4fbb"
            },
            "outputs": [],
            "execution_count": 0
        },
        {
            "cell_type": "markdown",
            "source": [
                "The `GO` statement separates *batches*: the lines SQL Server will try to grok and execute. \r\n",
                "\r\n",
                "By providing a number after `GO` (for example `GO 10`), the batch is executed that number of times."
            ],
            "metadata": {
                "azdata_cell_guid": "1a93a737-6cfc-41ff-a63f-20f30a4a6fbc"
            }
        },
        {
            "cell_type": "markdown",
            "source": [
                "## Variables\r\n",
                "\r\n",
                "To store data for the duration of one batch, you can use a *variable*.\r\n",
                "\r\n",
                "For example, try the commands below and see what happens.\r\n",
                "\r\n",
                "* First, describe what you expect to see when you \"just\" read the syntax for every line (guesses are ok!)\r\n",
                "* Then, execute the code.\r\n",
                "  * Notice that you cannot execute the line-by-line: \r\n",
                "    * Executing only the first line will be ok\r\n",
                "    * Executing only the second line will yield an error: you are now in a new *batch*, so the variable you declared in an earlier batch has disappeared\r\n",
                "  * Therefor, instead of line-by-line you should execute the code from start until the line you want to see the results of.\r\n",
                "    * So if you want to see the results of line 2, you execute both line 1 AND 2.\r\n",
                "\r\n",
                "```sql\r\n",
                "DECLARE @name VARCHAR(30);\r\n",
                "SET @name = 'Koos';\r\n",
                "SELECT @name;\r\n",
                "SELECT @name = 'Inge';\r\n",
                "PRINT @name;\r\n",
                "DECLARE @anotherName VARCHAR(30) = 'Sanne';\r\n",
                "```"
            ],
            "metadata": {
                "azdata_cell_guid": "e812d1da-c172-42ae-9cbb-d01a4c9b66f1"
            }
        },
        {
            "cell_type": "code",
            "source": [
                ""
            ],
            "metadata": {
                "azdata_cell_guid": "7096be7a-c0b9-4dcd-abb3-f8c927d6f42f"
            },
            "outputs": [],
            "execution_count": 0
        },
        {
            "cell_type": "markdown",
            "source": [
                "### Variables part 2\r\n",
                "\r\n",
                "* Retrieve the *BusinessEntityId* of the salesperson with the highest amount of sales according to SalesOrderHeader\r\n",
                "* Store the *BusinessEntityId* in a variable\r\n",
                "* Retrieve and display the first- and last name of this salesperson based on the variable\r\n",
                "* As a bonus, not only display the first and last name, but also the amount of sales this person made. Use a second variable for this figure."
            ],
            "metadata": {
                "azdata_cell_guid": "ea988b8f-aab2-4c70-a5c9-a3006ab714e3"
            }
        },
        {
            "cell_type": "markdown",
            "source": [
                "## Conditional logic with IF-statements\r\n",
                "\r\n",
                "Write a query "
            ],
            "metadata": {
                "azdata_cell_guid": "fa1bedca-c8a4-4230-9fc0-7e89067553cb"
            }
        }
    ]
}